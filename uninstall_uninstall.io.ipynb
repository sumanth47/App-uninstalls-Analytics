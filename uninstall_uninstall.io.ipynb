{
 "cells": [
  {
   "cell_type": "markdown",
   "metadata": {},
   "source": [
    "### Importing necessary libraries"
   ]
  },
  {
   "cell_type": "code",
   "execution_count": 102,
   "metadata": {},
   "outputs": [],
   "source": [
    "import pandas as pd\n",
    "from tqdm import tqdm\n",
    "import matplotlib.pyplot as plt\n",
    "pd.options.display.max_colwidth = 200\n",
    "import re\n",
    "from collections import Counter\n",
    "from datetime import date\n",
    "from datetime import datetime\n",
    "from datetime import timedelta"
   ]
  },
  {
   "cell_type": "markdown",
   "metadata": {},
   "source": [
    "### Reading the eventdump.csv file"
   ]
  },
  {
   "cell_type": "code",
   "execution_count": 103,
   "metadata": {},
   "outputs": [
    {
     "data": {
      "text/html": [
       "<div>\n",
       "<style scoped>\n",
       "    .dataframe tbody tr th:only-of-type {\n",
       "        vertical-align: middle;\n",
       "    }\n",
       "\n",
       "    .dataframe tbody tr th {\n",
       "        vertical-align: top;\n",
       "    }\n",
       "\n",
       "    .dataframe thead th {\n",
       "        text-align: right;\n",
       "    }\n",
       "</style>\n",
       "<table border=\"1\" class=\"dataframe\">\n",
       "  <thead>\n",
       "    <tr style=\"text-align: right;\">\n",
       "      <th></th>\n",
       "      <th>uuid</th>\n",
       "      <th>event</th>\n",
       "      <th>event_timestamp</th>\n",
       "      <th>properties</th>\n",
       "    </tr>\n",
       "  </thead>\n",
       "  <tbody>\n",
       "    <tr>\n",
       "      <th>0</th>\n",
       "      <td>43e1796c34ac2a91</td>\n",
       "      <td>Cart is viewed</td>\n",
       "      <td>2016-08-29 02:07:56.88</td>\n",
       "      <td>{\"email_id\": \"careers24@gmail.com\", \"timeStamp\": \"29-08-2016 07:43:10\", \"No Of Products\": 1, \"Cart Value\": \"1495\"}</td>\n",
       "    </tr>\n",
       "    <tr>\n",
       "      <th>1</th>\n",
       "      <td>3065bf9960737af</td>\n",
       "      <td>Cart is viewed</td>\n",
       "      <td>2016-08-29 03:04:00.08</td>\n",
       "      <td>{\"email_id\": \"devangnipathak@gmail.com\", \"timeStamp\": \"29-08-2016 08:39:03\", \"No Of Products\": 4, \"Cart Value\": \"877\"}</td>\n",
       "    </tr>\n",
       "    <tr>\n",
       "      <th>2</th>\n",
       "      <td>636677073e9445e3</td>\n",
       "      <td>Search results page viewed</td>\n",
       "      <td>2016-08-29 00:26:23.213</td>\n",
       "      <td>{\"category\": \"Panties\", \"timeStamp\": \"29-08-2016 06:00:27\"}</td>\n",
       "    </tr>\n",
       "    <tr>\n",
       "      <th>3</th>\n",
       "      <td>75f156f9584ffccf</td>\n",
       "      <td>Push notification received</td>\n",
       "      <td>2016-08-29 02:31:20.89</td>\n",
       "      <td>{\"timeStamp\": \"29-08-2016 08:05:40\"}</td>\n",
       "    </tr>\n",
       "    <tr>\n",
       "      <th>4</th>\n",
       "      <td>651557edb4a564b0</td>\n",
       "      <td>Search is initiated</td>\n",
       "      <td>2016-08-29 03:12:53.29</td>\n",
       "      <td>{\"search_query\": \"bra for 19 years old \", \"timeStamp\": \"29-08-2016 08:49:57\"}</td>\n",
       "    </tr>\n",
       "  </tbody>\n",
       "</table>\n",
       "</div>"
      ],
      "text/plain": [
       "               uuid                       event          event_timestamp  \\\n",
       "0  43e1796c34ac2a91              Cart is viewed   2016-08-29 02:07:56.88   \n",
       "1   3065bf9960737af              Cart is viewed   2016-08-29 03:04:00.08   \n",
       "2  636677073e9445e3  Search results page viewed  2016-08-29 00:26:23.213   \n",
       "3  75f156f9584ffccf  Push notification received   2016-08-29 02:31:20.89   \n",
       "4  651557edb4a564b0         Search is initiated   2016-08-29 03:12:53.29   \n",
       "\n",
       "                                                                                                               properties  \n",
       "0      {\"email_id\": \"careers24@gmail.com\", \"timeStamp\": \"29-08-2016 07:43:10\", \"No Of Products\": 1, \"Cart Value\": \"1495\"}  \n",
       "1  {\"email_id\": \"devangnipathak@gmail.com\", \"timeStamp\": \"29-08-2016 08:39:03\", \"No Of Products\": 4, \"Cart Value\": \"877\"}  \n",
       "2                                                             {\"category\": \"Panties\", \"timeStamp\": \"29-08-2016 06:00:27\"}  \n",
       "3                                                                                    {\"timeStamp\": \"29-08-2016 08:05:40\"}  \n",
       "4                                           {\"search_query\": \"bra for 19 years old \", \"timeStamp\": \"29-08-2016 08:49:57\"}  "
      ]
     },
     "execution_count": 103,
     "metadata": {},
     "output_type": "execute_result"
    }
   ],
   "source": [
    "df_events=pd.read_csv('eventdump.csv')\n",
    "df_events.head()"
   ]
  },
  {
   "cell_type": "markdown",
   "metadata": {},
   "source": [
    "### Reading the uicycles.csv file"
   ]
  },
  {
   "cell_type": "code",
   "execution_count": 104,
   "metadata": {},
   "outputs": [
    {
     "data": {
      "text/html": [
       "<div>\n",
       "<style scoped>\n",
       "    .dataframe tbody tr th:only-of-type {\n",
       "        vertical-align: middle;\n",
       "    }\n",
       "\n",
       "    .dataframe tbody tr th {\n",
       "        vertical-align: top;\n",
       "    }\n",
       "\n",
       "    .dataframe thead th {\n",
       "        text-align: right;\n",
       "    }\n",
       "</style>\n",
       "<table border=\"1\" class=\"dataframe\">\n",
       "  <thead>\n",
       "    <tr style=\"text-align: right;\">\n",
       "      <th></th>\n",
       "      <th>uuid</th>\n",
       "      <th>os</th>\n",
       "      <th>event_type</th>\n",
       "      <th>creation_date</th>\n",
       "    </tr>\n",
       "  </thead>\n",
       "  <tbody>\n",
       "    <tr>\n",
       "      <th>0</th>\n",
       "      <td>a9ba6d0cd8586a4f</td>\n",
       "      <td>Android</td>\n",
       "      <td>install</td>\n",
       "      <td>2016-08-06 19:54:47.0</td>\n",
       "    </tr>\n",
       "    <tr>\n",
       "      <th>1</th>\n",
       "      <td>7365ac7d0721bbf0</td>\n",
       "      <td>Android</td>\n",
       "      <td>re-install</td>\n",
       "      <td>2016-08-14 16:04:45.0</td>\n",
       "    </tr>\n",
       "    <tr>\n",
       "      <th>2</th>\n",
       "      <td>4bf1a1368533ad74</td>\n",
       "      <td>Android</td>\n",
       "      <td>uninstall</td>\n",
       "      <td>2016-08-06 17:40:18.0</td>\n",
       "    </tr>\n",
       "    <tr>\n",
       "      <th>3</th>\n",
       "      <td>8f2a30a777e2714b</td>\n",
       "      <td>Android</td>\n",
       "      <td>install</td>\n",
       "      <td>2016-08-31 05:25:24.0</td>\n",
       "    </tr>\n",
       "    <tr>\n",
       "      <th>4</th>\n",
       "      <td>cd002b38b452db4c</td>\n",
       "      <td>Android</td>\n",
       "      <td>install</td>\n",
       "      <td>2016-08-20 20:19:06.0</td>\n",
       "    </tr>\n",
       "  </tbody>\n",
       "</table>\n",
       "</div>"
      ],
      "text/plain": [
       "               uuid       os  event_type          creation_date\n",
       "0  a9ba6d0cd8586a4f  Android     install  2016-08-06 19:54:47.0\n",
       "1  7365ac7d0721bbf0  Android  re-install  2016-08-14 16:04:45.0\n",
       "2  4bf1a1368533ad74  Android   uninstall  2016-08-06 17:40:18.0\n",
       "3  8f2a30a777e2714b  Android     install  2016-08-31 05:25:24.0\n",
       "4  cd002b38b452db4c  Android     install  2016-08-20 20:19:06.0"
      ]
     },
     "execution_count": 104,
     "metadata": {},
     "output_type": "execute_result"
    }
   ],
   "source": [
    "df_cycles=pd.read_csv('uicycles.csv')\n",
    "df_cycles.head()"
   ]
  },
  {
   "cell_type": "markdown",
   "metadata": {},
   "source": [
    "# To find the time of the day when users are most active"
   ]
  },
  {
   "cell_type": "markdown",
   "metadata": {},
   "source": [
    "#### Take hour from each creation_date column and append to a list"
   ]
  },
  {
   "cell_type": "code",
   "execution_count": 105,
   "metadata": {},
   "outputs": [
    {
     "name": "stderr",
     "output_type": "stream",
     "text": [
      "100%|██████████████████████████████████████████████████████████████████████████████████████████████████████████████████████████████████████████████████████████████████████████████████████████████████████████████████████████████| 995304/995304 [00:12<00:00, 82055.37it/s]\n"
     ]
    }
   ],
   "source": [
    "hours=[]\n",
    "for i in tqdm(range(len(df_events))):\n",
    "    x1=df_events['event_timestamp'][i].split(\" \")[1]\n",
    "    x2=x1.split(\":\")[0]\n",
    "    hours.append(x2)"
   ]
  },
  {
   "cell_type": "code",
   "execution_count": 106,
   "metadata": {
    "scrolled": true
   },
   "outputs": [
    {
     "data": {
      "text/plain": [
       "995304"
      ]
     },
     "execution_count": 106,
     "metadata": {},
     "output_type": "execute_result"
    }
   ],
   "source": [
    "len(hours)"
   ]
  },
  {
   "cell_type": "markdown",
   "metadata": {},
   "source": [
    "#### Make a histogram using Matplotlib"
   ]
  },
  {
   "cell_type": "code",
   "execution_count": 107,
   "metadata": {
    "scrolled": false
   },
   "outputs": [
    {
     "data": {
      "text/plain": [
       "Text(0,0.5,'Frequency of the events')"
      ]
     },
     "execution_count": 107,
     "metadata": {},
     "output_type": "execute_result"
    },
    {
     "data": {
      "image/png": "[encoded data removed]",
      "text/plain": [
       "<matplotlib.figure.Figure at 0x25855ca9710>"
      ]
     },
     "metadata": {},
     "output_type": "display_data"
    }
   ],
   "source": [
    "plt.figure(figsize=(20,5))\n",
    "plt.hist(hours,bins=24,rwidth=0.5)\n",
    "plt.xlabel('Time of the day')\n",
    "plt.ylabel('Frequency of the events')"
   ]
  },
  {
   "cell_type": "markdown",
   "metadata": {},
   "source": [
    "# Finding install-uninstall trends"
   ]
  },
  {
   "cell_type": "code",
   "execution_count": 108,
   "metadata": {},
   "outputs": [],
   "source": [
    "def get_day(ts):\n",
    "    d1= ts.split(\" \")[0]\n",
    "    d2=d1.split(\"-\")[2]\n",
    "    return d2"
   ]
  },
  {
   "cell_type": "code",
   "execution_count": 109,
   "metadata": {},
   "outputs": [],
   "source": [
    "df_cycles['day']=0\n",
    "df_cycles['day']=df_cycles['creation_date'].map(get_day)"
   ]
  },
  {
   "cell_type": "code",
   "execution_count": 110,
   "metadata": {},
   "outputs": [],
   "source": [
    "df_cycles_installs=df_cycles[df_cycles['event_type']=='install' ]\n",
    "df_cycles_reinstalls=df_cycles[df_cycles['event_type']=='re-install' ]\n",
    "df_cycles_uninstalls=df_cycles[df_cycles['event_type']=='uninstall' ]\n"
   ]
  },
  {
   "cell_type": "code",
   "execution_count": 111,
   "metadata": {},
   "outputs": [
    {
     "data": {
      "text/html": [
       "<div>\n",
       "<style scoped>\n",
       "    .dataframe tbody tr th:only-of-type {\n",
       "        vertical-align: middle;\n",
       "    }\n",
       "\n",
       "    .dataframe tbody tr th {\n",
       "        vertical-align: top;\n",
       "    }\n",
       "\n",
       "    .dataframe thead th {\n",
       "        text-align: right;\n",
       "    }\n",
       "</style>\n",
       "<table border=\"1\" class=\"dataframe\">\n",
       "  <thead>\n",
       "    <tr style=\"text-align: right;\">\n",
       "      <th></th>\n",
       "      <th>uuid</th>\n",
       "      <th>os</th>\n",
       "      <th>event_type</th>\n",
       "      <th>creation_date</th>\n",
       "      <th>day</th>\n",
       "    </tr>\n",
       "  </thead>\n",
       "  <tbody>\n",
       "    <tr>\n",
       "      <th>0</th>\n",
       "      <td>a9ba6d0cd8586a4f</td>\n",
       "      <td>Android</td>\n",
       "      <td>install</td>\n",
       "      <td>2016-08-06 19:54:47.0</td>\n",
       "      <td>06</td>\n",
       "    </tr>\n",
       "    <tr>\n",
       "      <th>3</th>\n",
       "      <td>8f2a30a777e2714b</td>\n",
       "      <td>Android</td>\n",
       "      <td>install</td>\n",
       "      <td>2016-08-31 05:25:24.0</td>\n",
       "      <td>31</td>\n",
       "    </tr>\n",
       "    <tr>\n",
       "      <th>4</th>\n",
       "      <td>cd002b38b452db4c</td>\n",
       "      <td>Android</td>\n",
       "      <td>install</td>\n",
       "      <td>2016-08-20 20:19:06.0</td>\n",
       "      <td>20</td>\n",
       "    </tr>\n",
       "    <tr>\n",
       "      <th>5</th>\n",
       "      <td>69ca9ae5f44d30ed</td>\n",
       "      <td>Android</td>\n",
       "      <td>install</td>\n",
       "      <td>2016-08-06 18:43:48.0</td>\n",
       "      <td>06</td>\n",
       "    </tr>\n",
       "    <tr>\n",
       "      <th>6</th>\n",
       "      <td>be86f7ceaaf66600</td>\n",
       "      <td>Android</td>\n",
       "      <td>install</td>\n",
       "      <td>2016-08-05 06:44:21.0</td>\n",
       "      <td>05</td>\n",
       "    </tr>\n",
       "  </tbody>\n",
       "</table>\n",
       "</div>"
      ],
      "text/plain": [
       "               uuid       os event_type          creation_date day\n",
       "0  a9ba6d0cd8586a4f  Android    install  2016-08-06 19:54:47.0  06\n",
       "3  8f2a30a777e2714b  Android    install  2016-08-31 05:25:24.0  31\n",
       "4  cd002b38b452db4c  Android    install  2016-08-20 20:19:06.0  20\n",
       "5  69ca9ae5f44d30ed  Android    install  2016-08-06 18:43:48.0  06\n",
       "6  be86f7ceaaf66600  Android    install  2016-08-05 06:44:21.0  05"
      ]
     },
     "execution_count": 111,
     "metadata": {},
     "output_type": "execute_result"
    }
   ],
   "source": [
    "df_cycles_installs.head()"
   ]
  },
  {
   "cell_type": "code",
   "execution_count": 112,
   "metadata": {
    "scrolled": true
   },
   "outputs": [
    {
     "data": {
      "image/png": "[encoded data removed]",
      "text/plain": [
       "<matplotlib.figure.Figure at 0x25859de8eb8>"
      ]
     },
     "metadata": {},
     "output_type": "display_data"
    }
   ],
   "source": [
    "plt.figure(figsize=(20,6))\n",
    "plt.hist(df_cycles_reinstalls['day'],bins=31,rwidth=0.7,alpha=1,label='reinstalls',color='black')\n",
    "plt.hist(df_cycles_uninstalls['day'],bins=31,rwidth=0.7,alpha=0.3,label='uninstalls',color='red')\n",
    "plt.hist(df_cycles_installs['day'],bins=31,rwidth=0.7,alpha=0.5,label='installs',color='gray')\n",
    "plt.legend(loc='upper right')\n",
    "plt.xlabel('Day')\n",
    "plt.ylabel('Events')\n",
    "plt.show()"
   ]
  },
  {
   "cell_type": "markdown",
   "metadata": {},
   "source": [
    "#### More precise look at re-installs trends"
   ]
  },
  {
   "cell_type": "code",
   "execution_count": 113,
   "metadata": {},
   "outputs": [
    {
     "data": {
      "text/plain": [
       "Text(0,0.5,'Re-installs')"
      ]
     },
     "execution_count": 113,
     "metadata": {},
     "output_type": "execute_result"
    },
    {
     "data": {
      "image/png": "[encoded data removed]",
      "text/plain": [
       "<matplotlib.figure.Figure at 0x25859de8518>"
      ]
     },
     "metadata": {},
     "output_type": "display_data"
    }
   ],
   "source": [
    "plt.figure(figsize=(15,5))\n",
    "plt.hist(df_cycles_reinstalls['day'],bins=31,alpha=0.5,rwidth=0.7,label='reinstalls',color='blue')\n",
    "plt.xlabel('Day')\n",
    "plt.ylabel('Re-installs')"
   ]
  },
  {
   "cell_type": "code",
   "execution_count": 114,
   "metadata": {},
   "outputs": [
    {
     "data": {
      "text/html": [
       "<div>\n",
       "<style scoped>\n",
       "    .dataframe tbody tr th:only-of-type {\n",
       "        vertical-align: middle;\n",
       "    }\n",
       "\n",
       "    .dataframe tbody tr th {\n",
       "        vertical-align: top;\n",
       "    }\n",
       "\n",
       "    .dataframe thead th {\n",
       "        text-align: right;\n",
       "    }\n",
       "</style>\n",
       "<table border=\"1\" class=\"dataframe\">\n",
       "  <thead>\n",
       "    <tr style=\"text-align: right;\">\n",
       "      <th></th>\n",
       "      <th>uuid</th>\n",
       "      <th>os</th>\n",
       "      <th>event_type</th>\n",
       "      <th>creation_date</th>\n",
       "      <th>day</th>\n",
       "    </tr>\n",
       "  </thead>\n",
       "  <tbody>\n",
       "    <tr>\n",
       "      <th>0</th>\n",
       "      <td>a9ba6d0cd8586a4f</td>\n",
       "      <td>Android</td>\n",
       "      <td>install</td>\n",
       "      <td>2016-08-06 19:54:47.0</td>\n",
       "      <td>06</td>\n",
       "    </tr>\n",
       "    <tr>\n",
       "      <th>1</th>\n",
       "      <td>7365ac7d0721bbf0</td>\n",
       "      <td>Android</td>\n",
       "      <td>re-install</td>\n",
       "      <td>2016-08-14 16:04:45.0</td>\n",
       "      <td>14</td>\n",
       "    </tr>\n",
       "    <tr>\n",
       "      <th>2</th>\n",
       "      <td>4bf1a1368533ad74</td>\n",
       "      <td>Android</td>\n",
       "      <td>uninstall</td>\n",
       "      <td>2016-08-06 17:40:18.0</td>\n",
       "      <td>06</td>\n",
       "    </tr>\n",
       "    <tr>\n",
       "      <th>3</th>\n",
       "      <td>8f2a30a777e2714b</td>\n",
       "      <td>Android</td>\n",
       "      <td>install</td>\n",
       "      <td>2016-08-31 05:25:24.0</td>\n",
       "      <td>31</td>\n",
       "    </tr>\n",
       "    <tr>\n",
       "      <th>4</th>\n",
       "      <td>cd002b38b452db4c</td>\n",
       "      <td>Android</td>\n",
       "      <td>install</td>\n",
       "      <td>2016-08-20 20:19:06.0</td>\n",
       "      <td>20</td>\n",
       "    </tr>\n",
       "  </tbody>\n",
       "</table>\n",
       "</div>"
      ],
      "text/plain": [
       "               uuid       os  event_type          creation_date day\n",
       "0  a9ba6d0cd8586a4f  Android     install  2016-08-06 19:54:47.0  06\n",
       "1  7365ac7d0721bbf0  Android  re-install  2016-08-14 16:04:45.0  14\n",
       "2  4bf1a1368533ad74  Android   uninstall  2016-08-06 17:40:18.0  06\n",
       "3  8f2a30a777e2714b  Android     install  2016-08-31 05:25:24.0  31\n",
       "4  cd002b38b452db4c  Android     install  2016-08-20 20:19:06.0  20"
      ]
     },
     "execution_count": 114,
     "metadata": {},
     "output_type": "execute_result"
    }
   ],
   "source": [
    "df_cycles.head()"
   ]
  },
  {
   "cell_type": "markdown",
   "metadata": {},
   "source": [
    "# Finding the value trends in the carts"
   ]
  },
  {
   "cell_type": "code",
   "execution_count": 115,
   "metadata": {},
   "outputs": [],
   "source": [
    "cart_values=[]\n",
    "df_events_values=df_events[['event','properties']][(df_events['event']==\"Cart is viewed\")|(df_events['event']==\"Place Order is initiated\")]\n",
    "properties_strings=df_events_values['properties'].tolist()"
   ]
  },
  {
   "cell_type": "code",
   "execution_count": 116,
   "metadata": {},
   "outputs": [],
   "source": [
    "def get_number(t):\n",
    "    numbers = re.findall('\\d+',t)\n",
    "    return int(numbers[0])"
   ]
  },
  {
   "cell_type": "code",
   "execution_count": 117,
   "metadata": {},
   "outputs": [
    {
     "name": "stderr",
     "output_type": "stream",
     "text": [
      "100%|█████████████████████████████████████████████████████████████████████████████████████████████████████████████████████████████████████████████████████████████████████████████████████████████████████████████████████████████| 131113/131113 [00:00<00:00, 339026.93it/s]\n"
     ]
    }
   ],
   "source": [
    " for i in tqdm(range(len(properties_strings))):\n",
    "        y=\"Value\"\n",
    "        x=properties_strings[i]\n",
    "        if(y in x):\n",
    "            x1=properties_strings[i].split(\"Value\")[1]\n",
    "            x2=x1.split(\"}\")[0]\n",
    "            x3=get_number(x2)\n",
    "            cart_values.append(x3)"
   ]
  },
  {
   "cell_type": "code",
   "execution_count": 118,
   "metadata": {},
   "outputs": [
    {
     "data": {
      "image/png": "[encoded data removed]",
      "text/plain": [
       "<matplotlib.figure.Figure at 0x2585a9a8780>"
      ]
     },
     "metadata": {},
     "output_type": "display_data"
    }
   ],
   "source": [
    "plt.figure(figsize=(15,5))\n",
    "plt.hist(cart_values,bins=30,rwidth=0.7,alpha=0.5,label='reinstalls',color='orange')\n",
    "plt.xlabel('Value in the cart')\n",
    "plt.ylabel('Frequency')\n",
    "plt.show()"
   ]
  },
  {
   "cell_type": "code",
   "execution_count": 119,
   "metadata": {},
   "outputs": [
    {
     "name": "stderr",
     "output_type": "stream",
     "text": [
      "100%|██████████████████████████████████████████████████████████████████████████████████████████████████████████████████████████████████████████████████████████████████████████████████████████████████████████████████████████████| 995304/995304 [00:11<00:00, 86235.34it/s]\n"
     ]
    }
   ],
   "source": [
    "purchasing_users=[]\n",
    "for i in tqdm(range(len(df_events))):\n",
    "    if (df_events['event'][i]=='Place Order is initiated')  and (df_events['uuid'][i] not in purchasing_users):\n",
    "        purchasing_users.append(df_events['uuid'][i])\n",
    "    "
   ]
  },
  {
   "cell_type": "markdown",
   "metadata": {},
   "source": [
    "# Behavioural analysis of Purchasing and non-purchasing users"
   ]
  },
  {
   "cell_type": "markdown",
   "metadata": {},
   "source": [
    "#### Exploratory analysis:"
   ]
  },
  {
   "cell_type": "code",
   "execution_count": 120,
   "metadata": {},
   "outputs": [
    {
     "data": {
      "text/plain": [
       "['ccff7633ebe24a6a',\n",
       " 'a31e664d8b2b6f68',\n",
       " '29f387b5dd73240a',\n",
       " '227455967360508e',\n",
       " '236a284af346285d']"
      ]
     },
     "execution_count": 120,
     "metadata": {},
     "output_type": "execute_result"
    }
   ],
   "source": [
    "purchasing_users[0:5]"
   ]
  },
  {
   "cell_type": "code",
   "execution_count": 121,
   "metadata": {},
   "outputs": [],
   "source": [
    "all_users=list(df_events.uuid.unique())"
   ]
  },
  {
   "cell_type": "code",
   "execution_count": 122,
   "metadata": {},
   "outputs": [],
   "source": [
    "#non_purchasing_users=[]\n",
    "#for i in tqdm(range(len(all_users))):\n",
    "#    if (all_users[i] not in purchasing_users) and (all_users[i] not in non_purchasing_users):\n",
    "#        non_purchasing_users.append(all_users[i])"
   ]
  },
  {
   "cell_type": "code",
   "execution_count": 123,
   "metadata": {},
   "outputs": [],
   "source": [
    "#non_purchasing_users[0:5]"
   ]
  },
  {
   "cell_type": "code",
   "execution_count": 124,
   "metadata": {
    "scrolled": true
   },
   "outputs": [
    {
     "data": {
      "text/html": [
       "<div>\n",
       "<style scoped>\n",
       "    .dataframe tbody tr th:only-of-type {\n",
       "        vertical-align: middle;\n",
       "    }\n",
       "\n",
       "    .dataframe tbody tr th {\n",
       "        vertical-align: top;\n",
       "    }\n",
       "\n",
       "    .dataframe thead th {\n",
       "        text-align: right;\n",
       "    }\n",
       "</style>\n",
       "<table border=\"1\" class=\"dataframe\">\n",
       "  <thead>\n",
       "    <tr style=\"text-align: right;\">\n",
       "      <th></th>\n",
       "      <th>0</th>\n",
       "    </tr>\n",
       "  </thead>\n",
       "  <tbody>\n",
       "    <tr>\n",
       "      <th>1</th>\n",
       "      <td>Cart is viewed</td>\n",
       "    </tr>\n",
       "    <tr>\n",
       "      <th>2</th>\n",
       "      <td>Search results page viewed</td>\n",
       "    </tr>\n",
       "    <tr>\n",
       "      <th>3</th>\n",
       "      <td>Push notification received</td>\n",
       "    </tr>\n",
       "    <tr>\n",
       "      <th>4</th>\n",
       "      <td>Search is initiated</td>\n",
       "    </tr>\n",
       "    <tr>\n",
       "      <th>5</th>\n",
       "      <td>Product is added to cart</td>\n",
       "    </tr>\n",
       "    <tr>\n",
       "      <th>6</th>\n",
       "      <td>Sub-Category is viewed</td>\n",
       "    </tr>\n",
       "    <tr>\n",
       "      <th>7</th>\n",
       "      <td>Search icon clicked</td>\n",
       "    </tr>\n",
       "    <tr>\n",
       "      <th>8</th>\n",
       "      <td>Category is viewed</td>\n",
       "    </tr>\n",
       "    <tr>\n",
       "      <th>9</th>\n",
       "      <td>Login initiated</td>\n",
       "    </tr>\n",
       "    <tr>\n",
       "      <th>10</th>\n",
       "      <td>Product detail is viewed</td>\n",
       "    </tr>\n",
       "    <tr>\n",
       "      <th>11</th>\n",
       "      <td>User has logged in</td>\n",
       "    </tr>\n",
       "    <tr>\n",
       "      <th>12</th>\n",
       "      <td>Product is added to wishlist</td>\n",
       "    </tr>\n",
       "    <tr>\n",
       "      <th>13</th>\n",
       "      <td>Place Order is initiated</td>\n",
       "    </tr>\n",
       "    <tr>\n",
       "      <th>14</th>\n",
       "      <td>Product review is viewed</td>\n",
       "    </tr>\n",
       "    <tr>\n",
       "      <th>15</th>\n",
       "      <td>Login failed</td>\n",
       "    </tr>\n",
       "    <tr>\n",
       "      <th>16</th>\n",
       "      <td>Signup is initiated</td>\n",
       "    </tr>\n",
       "    <tr>\n",
       "      <th>17</th>\n",
       "      <td>Add shipping address</td>\n",
       "    </tr>\n",
       "    <tr>\n",
       "      <th>18</th>\n",
       "      <td>Product is shared</td>\n",
       "    </tr>\n",
       "    <tr>\n",
       "      <th>19</th>\n",
       "      <td>Search returned 0 results</td>\n",
       "    </tr>\n",
       "    <tr>\n",
       "      <th>20</th>\n",
       "      <td>Banner is viewed</td>\n",
       "    </tr>\n",
       "    <tr>\n",
       "      <th>21</th>\n",
       "      <td>Login or signup checkout</td>\n",
       "    </tr>\n",
       "    <tr>\n",
       "      <th>22</th>\n",
       "      <td>Pincode Check</td>\n",
       "    </tr>\n",
       "    <tr>\n",
       "      <th>23</th>\n",
       "      <td>Checkout is completed by Cash On Delivery</td>\n",
       "    </tr>\n",
       "    <tr>\n",
       "      <th>24</th>\n",
       "      <td>Push Event Clicked</td>\n",
       "    </tr>\n",
       "    <tr>\n",
       "      <th>25</th>\n",
       "      <td>Checkout is completed by Credit Cards / Debit Cards / Net Banking</td>\n",
       "    </tr>\n",
       "    <tr>\n",
       "      <th>26</th>\n",
       "      <td>Shipping addresss added</td>\n",
       "    </tr>\n",
       "    <tr>\n",
       "      <th>27</th>\n",
       "      <td>Signup failed</td>\n",
       "    </tr>\n",
       "    <tr>\n",
       "      <th>28</th>\n",
       "      <td>Guest checkout initiated</td>\n",
       "    </tr>\n",
       "    <tr>\n",
       "      <th>29</th>\n",
       "      <td>Push notification opened</td>\n",
       "    </tr>\n",
       "    <tr>\n",
       "      <th>30</th>\n",
       "      <td>Checkout is completed by Paid using zCoins</td>\n",
       "    </tr>\n",
       "    <tr>\n",
       "      <th>31</th>\n",
       "      <td>Checkout Failed</td>\n",
       "    </tr>\n",
       "    <tr>\n",
       "      <th>32</th>\n",
       "      <td>Brand page is viewed</td>\n",
       "    </tr>\n",
       "    <tr>\n",
       "      <th>33</th>\n",
       "      <td>Checkout is completed by PG</td>\n",
       "    </tr>\n",
       "    <tr>\n",
       "      <th>34</th>\n",
       "      <td>Checkout is completed by null</td>\n",
       "    </tr>\n",
       "    <tr>\n",
       "      <th>35</th>\n",
       "      <td>download_source</td>\n",
       "    </tr>\n",
       "    <tr>\n",
       "      <th>36</th>\n",
       "      <td>uio_push_token</td>\n",
       "    </tr>\n",
       "    <tr>\n",
       "      <th>37</th>\n",
       "      <td>Product is viewed</td>\n",
       "    </tr>\n",
       "  </tbody>\n",
       "</table>\n",
       "</div>"
      ],
      "text/plain": [
       "                                                                    0\n",
       "1                                                      Cart is viewed\n",
       "2                                          Search results page viewed\n",
       "3                                          Push notification received\n",
       "4                                                 Search is initiated\n",
       "5                                            Product is added to cart\n",
       "6                                              Sub-Category is viewed\n",
       "7                                                 Search icon clicked\n",
       "8                                                  Category is viewed\n",
       "9                                                     Login initiated\n",
       "10                                           Product detail is viewed\n",
       "11                                                 User has logged in\n",
       "12                                       Product is added to wishlist\n",
       "13                                           Place Order is initiated\n",
       "14                                           Product review is viewed\n",
       "15                                                       Login failed\n",
       "16                                                Signup is initiated\n",
       "17                                               Add shipping address\n",
       "18                                                  Product is shared\n",
       "19                                          Search returned 0 results\n",
       "20                                                   Banner is viewed\n",
       "21                                           Login or signup checkout\n",
       "22                                                      Pincode Check\n",
       "23                          Checkout is completed by Cash On Delivery\n",
       "24                                                 Push Event Clicked\n",
       "25  Checkout is completed by Credit Cards / Debit Cards / Net Banking\n",
       "26                                            Shipping addresss added\n",
       "27                                                      Signup failed\n",
       "28                                           Guest checkout initiated\n",
       "29                                           Push notification opened\n",
       "30                         Checkout is completed by Paid using zCoins\n",
       "31                                                    Checkout Failed\n",
       "32                                               Brand page is viewed\n",
       "33                                        Checkout is completed by PG\n",
       "34                                      Checkout is completed by null\n",
       "35                                                    download_source\n",
       "36                                                     uio_push_token\n",
       "37                                                  Product is viewed"
      ]
     },
     "execution_count": 124,
     "metadata": {},
     "output_type": "execute_result"
    }
   ],
   "source": [
    "events=df_events.event.unique()\n",
    "\n",
    "index = [str(i) for i in range(1, len(events)+1)]\n",
    "df_all_uniq_events=pd.DataFrame(data=events,index=index)\n",
    "df_all_uniq_events"
   ]
  },
  {
   "cell_type": "code",
   "execution_count": 125,
   "metadata": {},
   "outputs": [
    {
     "data": {
      "text/html": [
       "<div>\n",
       "<style scoped>\n",
       "    .dataframe tbody tr th:only-of-type {\n",
       "        vertical-align: middle;\n",
       "    }\n",
       "\n",
       "    .dataframe tbody tr th {\n",
       "        vertical-align: top;\n",
       "    }\n",
       "\n",
       "    .dataframe thead th {\n",
       "        text-align: right;\n",
       "    }\n",
       "</style>\n",
       "<table border=\"1\" class=\"dataframe\">\n",
       "  <thead>\n",
       "    <tr style=\"text-align: right;\">\n",
       "      <th></th>\n",
       "      <th>0</th>\n",
       "    </tr>\n",
       "  </thead>\n",
       "  <tbody>\n",
       "    <tr>\n",
       "      <th>1</th>\n",
       "      <td>Cart is viewed</td>\n",
       "    </tr>\n",
       "    <tr>\n",
       "      <th>2</th>\n",
       "      <td>Search results page viewed</td>\n",
       "    </tr>\n",
       "    <tr>\n",
       "      <th>3</th>\n",
       "      <td>Push notification received</td>\n",
       "    </tr>\n",
       "    <tr>\n",
       "      <th>4</th>\n",
       "      <td>Search is initiated</td>\n",
       "    </tr>\n",
       "    <tr>\n",
       "      <th>5</th>\n",
       "      <td>Product is added to cart</td>\n",
       "    </tr>\n",
       "  </tbody>\n",
       "</table>\n",
       "</div>"
      ],
      "text/plain": [
       "                            0\n",
       "1              Cart is viewed\n",
       "2  Search results page viewed\n",
       "3  Push notification received\n",
       "4         Search is initiated\n",
       "5    Product is added to cart"
      ]
     },
     "execution_count": 125,
     "metadata": {},
     "output_type": "execute_result"
    }
   ],
   "source": [
    "df_all_uniq_events.head()"
   ]
  },
  {
   "cell_type": "code",
   "execution_count": 126,
   "metadata": {},
   "outputs": [],
   "source": [
    "df_all_uniq_events['frequency']=0"
   ]
  },
  {
   "cell_type": "code",
   "execution_count": 127,
   "metadata": {},
   "outputs": [],
   "source": [
    "#df_act_purch_users=df_all_uniq_events\n",
    "#df_act_nonpurch_users=df_all_uniq_events"
   ]
  },
  {
   "cell_type": "code",
   "execution_count": 128,
   "metadata": {},
   "outputs": [],
   "source": [
    "#df_events=df_events[0:100]"
   ]
  },
  {
   "cell_type": "markdown",
   "metadata": {},
   "source": [
    "#### Seperating their activities"
   ]
  },
  {
   "cell_type": "code",
   "execution_count": 129,
   "metadata": {},
   "outputs": [
    {
     "name": "stderr",
     "output_type": "stream",
     "text": [
      "100%|███████████████████████████████████████████████████████████████████████████████████████████████████████████████████████████████████████████████████████████████████████████████████████████████████████████████████████████████| 995304/995304 [01:58<00:00, 8376.58it/s]\n"
     ]
    }
   ],
   "source": [
    "list_freq_act_purch_users=[]\n",
    "list_freq_act_nonpurch_users=[]\n",
    "\n",
    "for i in tqdm(range(len(df_events))):\n",
    "    \n",
    "    x=df_events['event'][i]\n",
    "    if(df_events['uuid'][i] in purchasing_users):\n",
    "        #df_act_purch_users['frequency'][df_act_purch_users[0]==x]=df_act_purch_users['frequency'][df_act_purch_users[0]==x]+1\n",
    "        #print('purch')\n",
    "        list_freq_act_purch_users.append(df_events['event'][i])\n",
    "    else:\n",
    "        #print('non-purch')\n",
    "        #df_act_nonpurch_users['frequency'][df_act_nonpurch_users[0]==x]=df_act_nonpurch_users['frequency'][df_act_nonpurch_users[0]==x]+1\n",
    "        list_freq_act_nonpurch_users.append(df_events['event'][i])"
   ]
  },
  {
   "cell_type": "code",
   "execution_count": 130,
   "metadata": {},
   "outputs": [],
   "source": [
    "ls1=Counter(list_freq_act_purch_users)\n",
    "ls2=Counter(list_freq_act_nonpurch_users)"
   ]
  },
  {
   "cell_type": "code",
   "execution_count": 131,
   "metadata": {},
   "outputs": [],
   "source": [
    "df_1 = pd.DataFrame.from_dict(ls1, orient='index').reset_index()\n",
    "df_2=  pd.DataFrame.from_dict(ls2, orient='index').reset_index()"
   ]
  },
  {
   "cell_type": "code",
   "execution_count": 132,
   "metadata": {
    "scrolled": true
   },
   "outputs": [
    {
     "data": {
      "image/png": "[encoded data removed]",
      "text/plain": [
       "<matplotlib.figure.Figure at 0x258426899b0>"
      ]
     },
     "metadata": {},
     "output_type": "display_data"
    }
   ],
   "source": [
    "plt.figure(figsize=(25,20))\n",
    "plt.barh(df_1['index'],df_1[0],color='green',alpha=0.7,label='Activity of Purchasing users')\n",
    "plt.barh(df_2['index'],df_2[0],color='gray',alpha=0.5,label='Activity of non purchasing users')\n",
    "plt.legend(loc='upper right')\n",
    "plt.xlabel('Frequency')\n",
    "plt.ylabel('Events')\n",
    "plt.show()"
   ]
  },
  {
   "cell_type": "markdown",
   "metadata": {},
   "source": [
    "# Customer retention trends"
   ]
  },
  {
   "cell_type": "markdown",
   "metadata": {},
   "source": [
    "#### Exploratory analysis"
   ]
  },
  {
   "cell_type": "code",
   "execution_count": 133,
   "metadata": {
    "scrolled": true
   },
   "outputs": [],
   "source": [
    "#list_u=list(df_cycles['uuid'])\n",
    "#list_u2=set(list_u)\n",
    "#list_u3=list(list_u2)\n"
   ]
  },
  {
   "cell_type": "code",
   "execution_count": 134,
   "metadata": {},
   "outputs": [],
   "source": [
    "#for i in tqdm(range(len(list_u))):\n",
    "#    print()"
   ]
  },
  {
   "cell_type": "code",
   "execution_count": 135,
   "metadata": {},
   "outputs": [],
   "source": [
    "df_cycles=df_cycles[['uuid','event_type','creation_date']]"
   ]
  },
  {
   "cell_type": "code",
   "execution_count": 136,
   "metadata": {},
   "outputs": [
    {
     "name": "stderr",
     "output_type": "stream",
     "text": [
      "100%|██████████████████████████████████████████████████████████████████████████████████████████████████████████████████████████████████████████████████████████████████████████████████████████████████████████████████████████████| 161351/161351 [00:02<00:00, 66124.96it/s]\n"
     ]
    }
   ],
   "source": [
    "uninst_users_list=[]\n",
    "for i in tqdm(range(len(df_cycles))):\n",
    "    if df_cycles['event_type'][i]=='uninstall':\n",
    "        uninst_users_list.append(df_cycles['uuid'][i])"
   ]
  },
  {
   "cell_type": "code",
   "execution_count": 137,
   "metadata": {},
   "outputs": [
    {
     "data": {
      "text/plain": [
       "['4bf1a1368533ad74',\n",
       " 'e000e5ae9e8a6852',\n",
       " '1b85db553fd1cfa6',\n",
       " 'c98632690d8b74ed',\n",
       " '19db4eff14e0ef6e']"
      ]
     },
     "execution_count": 137,
     "metadata": {},
     "output_type": "execute_result"
    }
   ],
   "source": [
    "uninst_users_list[0:5]"
   ]
  },
  {
   "cell_type": "code",
   "execution_count": 138,
   "metadata": {},
   "outputs": [],
   "source": [
    "#list_last_uninstalls=[]\n",
    "#for k in tqdm(range(len(df_cycles))):\n",
    "#    id_=df_cycles['uuid'][k]\n",
    "#    d=get_last_install(id_,k)\n",
    "#    list_last_uninstalls.append(d)\n",
    "    "
   ]
  },
  {
   "cell_type": "markdown",
   "metadata": {},
   "source": [
    "#### Function to determine last install date, given id_ and a key"
   ]
  },
  {
   "cell_type": "code",
   "execution_count": 139,
   "metadata": {},
   "outputs": [],
   "source": [
    "def get_last_install(x,y):\n",
    "    df_samp=df_cycles[0:y]\n",
    "    df_samp2=df_samp[(df_samp['uuid']==x) & ((df_samp['event_type']=='install')|(df_samp['event_type']=='re-install'))]\n",
    "    if df_samp2.empty:\n",
    "        last_date='Not known'\n",
    "    else:\n",
    "        last_date=max(df_samp2['creation_date'])\n",
    "    return last_date"
   ]
  },
  {
   "cell_type": "code",
   "execution_count": 140,
   "metadata": {},
   "outputs": [
    {
     "data": {
      "text/plain": [
       "'Not known'"
      ]
     },
     "execution_count": 140,
     "metadata": {},
     "output_type": "execute_result"
    }
   ],
   "source": [
    "get_last_install('c98632690d8b74ed',1)"
   ]
  },
  {
   "cell_type": "code",
   "execution_count": 141,
   "metadata": {},
   "outputs": [],
   "source": [
    "#def get_diff_date(d1,d2):\n",
    "#    return date(d1)-date(d2)"
   ]
  },
  {
   "cell_type": "code",
   "execution_count": 142,
   "metadata": {
    "scrolled": true
   },
   "outputs": [],
   "source": [
    "#get_diff_date('2016-08-06 19:54:47.0','2016-12-06 19:54:47.0')\n",
    "#int('2016-08-06')"
   ]
  },
  {
   "cell_type": "code",
   "execution_count": 143,
   "metadata": {},
   "outputs": [],
   "source": [
    "#list_last_uninstalls"
   ]
  },
  {
   "cell_type": "code",
   "execution_count": 144,
   "metadata": {},
   "outputs": [],
   "source": [
    "#df_cycles.last_install=list_last_uninstalls"
   ]
  },
  {
   "cell_type": "code",
   "execution_count": 145,
   "metadata": {},
   "outputs": [],
   "source": [
    "#df_cycles['last_install']=0\n",
    "#df_cycles.head()"
   ]
  },
  {
   "cell_type": "code",
   "execution_count": 146,
   "metadata": {},
   "outputs": [],
   "source": [
    "#for i in tqdm(range(len(list_last_uninstalls))):\n",
    "#    df_cycles['last_install'][i]=list_last_uninstalls[i]"
   ]
  },
  {
   "cell_type": "code",
   "execution_count": 147,
   "metadata": {},
   "outputs": [
    {
     "data": {
      "text/html": [
       "<div>\n",
       "<style scoped>\n",
       "    .dataframe tbody tr th:only-of-type {\n",
       "        vertical-align: middle;\n",
       "    }\n",
       "\n",
       "    .dataframe tbody tr th {\n",
       "        vertical-align: top;\n",
       "    }\n",
       "\n",
       "    .dataframe thead th {\n",
       "        text-align: right;\n",
       "    }\n",
       "</style>\n",
       "<table border=\"1\" class=\"dataframe\">\n",
       "  <thead>\n",
       "    <tr style=\"text-align: right;\">\n",
       "      <th></th>\n",
       "      <th>uuid</th>\n",
       "      <th>event_type</th>\n",
       "      <th>creation_date</th>\n",
       "    </tr>\n",
       "  </thead>\n",
       "  <tbody>\n",
       "    <tr>\n",
       "      <th>0</th>\n",
       "      <td>a9ba6d0cd8586a4f</td>\n",
       "      <td>install</td>\n",
       "      <td>2016-08-06 19:54:47.0</td>\n",
       "    </tr>\n",
       "    <tr>\n",
       "      <th>1</th>\n",
       "      <td>7365ac7d0721bbf0</td>\n",
       "      <td>re-install</td>\n",
       "      <td>2016-08-14 16:04:45.0</td>\n",
       "    </tr>\n",
       "    <tr>\n",
       "      <th>2</th>\n",
       "      <td>4bf1a1368533ad74</td>\n",
       "      <td>uninstall</td>\n",
       "      <td>2016-08-06 17:40:18.0</td>\n",
       "    </tr>\n",
       "    <tr>\n",
       "      <th>3</th>\n",
       "      <td>8f2a30a777e2714b</td>\n",
       "      <td>install</td>\n",
       "      <td>2016-08-31 05:25:24.0</td>\n",
       "    </tr>\n",
       "    <tr>\n",
       "      <th>4</th>\n",
       "      <td>cd002b38b452db4c</td>\n",
       "      <td>install</td>\n",
       "      <td>2016-08-20 20:19:06.0</td>\n",
       "    </tr>\n",
       "  </tbody>\n",
       "</table>\n",
       "</div>"
      ],
      "text/plain": [
       "               uuid  event_type          creation_date\n",
       "0  a9ba6d0cd8586a4f     install  2016-08-06 19:54:47.0\n",
       "1  7365ac7d0721bbf0  re-install  2016-08-14 16:04:45.0\n",
       "2  4bf1a1368533ad74   uninstall  2016-08-06 17:40:18.0\n",
       "3  8f2a30a777e2714b     install  2016-08-31 05:25:24.0\n",
       "4  cd002b38b452db4c     install  2016-08-20 20:19:06.0"
      ]
     },
     "execution_count": 147,
     "metadata": {},
     "output_type": "execute_result"
    }
   ],
   "source": [
    "df_cycles.head()"
   ]
  },
  {
   "cell_type": "code",
   "execution_count": 148,
   "metadata": {},
   "outputs": [
    {
     "data": {
      "text/plain": [
       "91661"
      ]
     },
     "execution_count": 148,
     "metadata": {},
     "output_type": "execute_result"
    }
   ],
   "source": [
    "#only users who installed in the month\n",
    "aug_users=df_cycles['uuid'][df_cycles['event_type']=='install']\n",
    "len(aug_users.unique())"
   ]
  },
  {
   "cell_type": "code",
   "execution_count": 149,
   "metadata": {},
   "outputs": [],
   "source": [
    "aug_comers=df_cycles['uuid'][df_cycles['event_type']=='install']\n",
    "aug_goers=df_cycles['uuid'][df_cycles['event_type']=='uninstall']\n",
    "aug_re_comers=df_cycles['uuid'][df_cycles['event_type']=='re-install']"
   ]
  },
  {
   "cell_type": "code",
   "execution_count": 150,
   "metadata": {},
   "outputs": [
    {
     "data": {
      "text/plain": [
       "64214"
      ]
     },
     "execution_count": 150,
     "metadata": {},
     "output_type": "execute_result"
    }
   ],
   "source": [
    "len(aug_goers)"
   ]
  },
  {
   "cell_type": "code",
   "execution_count": 151,
   "metadata": {},
   "outputs": [
    {
     "data": {
      "text/plain": [
       "63155"
      ]
     },
     "execution_count": 151,
     "metadata": {},
     "output_type": "execute_result"
    }
   ],
   "source": [
    "len(aug_goers.unique())"
   ]
  },
  {
   "cell_type": "code",
   "execution_count": 152,
   "metadata": {},
   "outputs": [
    {
     "data": {
      "text/plain": [
       "91662"
      ]
     },
     "execution_count": 152,
     "metadata": {},
     "output_type": "execute_result"
    }
   ],
   "source": [
    "len(aug_comers)"
   ]
  },
  {
   "cell_type": "code",
   "execution_count": 153,
   "metadata": {},
   "outputs": [
    {
     "data": {
      "text/plain": [
       "5475"
      ]
     },
     "execution_count": 153,
     "metadata": {},
     "output_type": "execute_result"
    }
   ],
   "source": [
    "len(aug_re_comers)"
   ]
  },
  {
   "cell_type": "code",
   "execution_count": 154,
   "metadata": {},
   "outputs": [
    {
     "data": {
      "text/plain": [
       "5130"
      ]
     },
     "execution_count": 154,
     "metadata": {},
     "output_type": "execute_result"
    }
   ],
   "source": [
    "len(aug_re_comers.unique())"
   ]
  },
  {
   "cell_type": "code",
   "execution_count": 155,
   "metadata": {
    "scrolled": true
   },
   "outputs": [],
   "source": [
    "aug_net=df_cycles['uuid'][(df_cycles['event_type']=='install')|(df_cycles['event_type']=='re-install')]"
   ]
  },
  {
   "cell_type": "code",
   "execution_count": 156,
   "metadata": {},
   "outputs": [
    {
     "data": {
      "text/plain": [
       "95767"
      ]
     },
     "execution_count": 156,
     "metadata": {},
     "output_type": "execute_result"
    }
   ],
   "source": [
    "len(aug_net.unique())"
   ]
  },
  {
   "cell_type": "code",
   "execution_count": 157,
   "metadata": {},
   "outputs": [],
   "source": [
    "#df_cycles.sort_values(by='creation_date',inplace=True)"
   ]
  },
  {
   "cell_type": "code",
   "execution_count": 158,
   "metadata": {
    "scrolled": true
   },
   "outputs": [
    {
     "data": {
      "text/html": [
       "<div>\n",
       "<style scoped>\n",
       "    .dataframe tbody tr th:only-of-type {\n",
       "        vertical-align: middle;\n",
       "    }\n",
       "\n",
       "    .dataframe tbody tr th {\n",
       "        vertical-align: top;\n",
       "    }\n",
       "\n",
       "    .dataframe thead th {\n",
       "        text-align: right;\n",
       "    }\n",
       "</style>\n",
       "<table border=\"1\" class=\"dataframe\">\n",
       "  <thead>\n",
       "    <tr style=\"text-align: right;\">\n",
       "      <th></th>\n",
       "      <th>uuid</th>\n",
       "      <th>event_type</th>\n",
       "      <th>creation_date</th>\n",
       "    </tr>\n",
       "  </thead>\n",
       "  <tbody>\n",
       "    <tr>\n",
       "      <th>0</th>\n",
       "      <td>a9ba6d0cd8586a4f</td>\n",
       "      <td>install</td>\n",
       "      <td>2016-08-06 19:54:47.0</td>\n",
       "    </tr>\n",
       "    <tr>\n",
       "      <th>1</th>\n",
       "      <td>7365ac7d0721bbf0</td>\n",
       "      <td>re-install</td>\n",
       "      <td>2016-08-14 16:04:45.0</td>\n",
       "    </tr>\n",
       "    <tr>\n",
       "      <th>2</th>\n",
       "      <td>4bf1a1368533ad74</td>\n",
       "      <td>uninstall</td>\n",
       "      <td>2016-08-06 17:40:18.0</td>\n",
       "    </tr>\n",
       "    <tr>\n",
       "      <th>3</th>\n",
       "      <td>8f2a30a777e2714b</td>\n",
       "      <td>install</td>\n",
       "      <td>2016-08-31 05:25:24.0</td>\n",
       "    </tr>\n",
       "    <tr>\n",
       "      <th>4</th>\n",
       "      <td>cd002b38b452db4c</td>\n",
       "      <td>install</td>\n",
       "      <td>2016-08-20 20:19:06.0</td>\n",
       "    </tr>\n",
       "    <tr>\n",
       "      <th>5</th>\n",
       "      <td>69ca9ae5f44d30ed</td>\n",
       "      <td>install</td>\n",
       "      <td>2016-08-06 18:43:48.0</td>\n",
       "    </tr>\n",
       "    <tr>\n",
       "      <th>6</th>\n",
       "      <td>be86f7ceaaf66600</td>\n",
       "      <td>install</td>\n",
       "      <td>2016-08-05 06:44:21.0</td>\n",
       "    </tr>\n",
       "    <tr>\n",
       "      <th>7</th>\n",
       "      <td>e000e5ae9e8a6852</td>\n",
       "      <td>uninstall</td>\n",
       "      <td>2016-08-07 17:41:35.0</td>\n",
       "    </tr>\n",
       "    <tr>\n",
       "      <th>8</th>\n",
       "      <td>27ae4470a9f5aa92</td>\n",
       "      <td>install</td>\n",
       "      <td>2016-08-15 02:53:50.0</td>\n",
       "    </tr>\n",
       "    <tr>\n",
       "      <th>9</th>\n",
       "      <td>863626fc1dea37</td>\n",
       "      <td>install</td>\n",
       "      <td>2016-08-03 07:22:12.0</td>\n",
       "    </tr>\n",
       "    <tr>\n",
       "      <th>10</th>\n",
       "      <td>bb281aca6d2faf60</td>\n",
       "      <td>install</td>\n",
       "      <td>2016-08-11 10:01:00.0</td>\n",
       "    </tr>\n",
       "    <tr>\n",
       "      <th>11</th>\n",
       "      <td>1b85db553fd1cfa6</td>\n",
       "      <td>uninstall</td>\n",
       "      <td>2016-08-12 05:28:05.0</td>\n",
       "    </tr>\n",
       "    <tr>\n",
       "      <th>12</th>\n",
       "      <td>9b439e361a379034</td>\n",
       "      <td>install</td>\n",
       "      <td>2016-08-14 08:41:35.0</td>\n",
       "    </tr>\n",
       "    <tr>\n",
       "      <th>13</th>\n",
       "      <td>30827da5b807e4f3</td>\n",
       "      <td>install</td>\n",
       "      <td>2016-08-12 03:46:43.0</td>\n",
       "    </tr>\n",
       "    <tr>\n",
       "      <th>14</th>\n",
       "      <td>c98632690d8b74ed</td>\n",
       "      <td>uninstall</td>\n",
       "      <td>2016-08-12 17:37:52.0</td>\n",
       "    </tr>\n",
       "    <tr>\n",
       "      <th>15</th>\n",
       "      <td>cda1d0de450e7d3e</td>\n",
       "      <td>install</td>\n",
       "      <td>2016-08-10 15:52:56.0</td>\n",
       "    </tr>\n",
       "    <tr>\n",
       "      <th>16</th>\n",
       "      <td>b01fa9185a3a45ab</td>\n",
       "      <td>install</td>\n",
       "      <td>2016-08-06 13:58:21.0</td>\n",
       "    </tr>\n",
       "    <tr>\n",
       "      <th>17</th>\n",
       "      <td>6215917812e4d6e</td>\n",
       "      <td>install</td>\n",
       "      <td>2016-08-10 10:03:29.0</td>\n",
       "    </tr>\n",
       "    <tr>\n",
       "      <th>18</th>\n",
       "      <td>5f722f34c62fc58</td>\n",
       "      <td>install</td>\n",
       "      <td>2016-08-05 11:59:47.0</td>\n",
       "    </tr>\n",
       "    <tr>\n",
       "      <th>19</th>\n",
       "      <td>19db4eff14e0ef6e</td>\n",
       "      <td>uninstall</td>\n",
       "      <td>2016-08-12 17:37:36.0</td>\n",
       "    </tr>\n",
       "    <tr>\n",
       "      <th>20</th>\n",
       "      <td>f3e2fc2939d28c08</td>\n",
       "      <td>install</td>\n",
       "      <td>2016-08-11 16:16:13.0</td>\n",
       "    </tr>\n",
       "    <tr>\n",
       "      <th>21</th>\n",
       "      <td>9cc72d0532eadebc</td>\n",
       "      <td>uninstall</td>\n",
       "      <td>2016-08-12 17:37:04.0</td>\n",
       "    </tr>\n",
       "    <tr>\n",
       "      <th>22</th>\n",
       "      <td>50e02f4cfce5c935</td>\n",
       "      <td>install</td>\n",
       "      <td>2016-08-07 09:33:06.0</td>\n",
       "    </tr>\n",
       "    <tr>\n",
       "      <th>23</th>\n",
       "      <td>934380fbb8252022</td>\n",
       "      <td>uninstall</td>\n",
       "      <td>2016-08-12 17:36:58.0</td>\n",
       "    </tr>\n",
       "    <tr>\n",
       "      <th>24</th>\n",
       "      <td>862b001e0b4141c7</td>\n",
       "      <td>install</td>\n",
       "      <td>2016-08-13 06:40:31.0</td>\n",
       "    </tr>\n",
       "    <tr>\n",
       "      <th>25</th>\n",
       "      <td>651d8901215d48b8</td>\n",
       "      <td>uninstall</td>\n",
       "      <td>2016-08-26 18:12:52.0</td>\n",
       "    </tr>\n",
       "    <tr>\n",
       "      <th>26</th>\n",
       "      <td>7215277de198b932</td>\n",
       "      <td>install</td>\n",
       "      <td>2016-08-23 18:03:03.0</td>\n",
       "    </tr>\n",
       "    <tr>\n",
       "      <th>27</th>\n",
       "      <td>502eb2d1f6fa6d2c</td>\n",
       "      <td>install</td>\n",
       "      <td>2016-08-12 05:22:41.0</td>\n",
       "    </tr>\n",
       "    <tr>\n",
       "      <th>28</th>\n",
       "      <td>7af5037cf2af7dfd</td>\n",
       "      <td>uninstall</td>\n",
       "      <td>2016-08-07 05:28:44.0</td>\n",
       "    </tr>\n",
       "    <tr>\n",
       "      <th>29</th>\n",
       "      <td>175fbe0524ec15ee</td>\n",
       "      <td>install</td>\n",
       "      <td>2016-08-31 17:37:04.0</td>\n",
       "    </tr>\n",
       "    <tr>\n",
       "      <th>...</th>\n",
       "      <td>...</td>\n",
       "      <td>...</td>\n",
       "      <td>...</td>\n",
       "    </tr>\n",
       "    <tr>\n",
       "      <th>161321</th>\n",
       "      <td>9240563fb0468a97</td>\n",
       "      <td>re-install</td>\n",
       "      <td>2016-08-21 08:31:06.0</td>\n",
       "    </tr>\n",
       "    <tr>\n",
       "      <th>161322</th>\n",
       "      <td>595e23ee2ac9ae7c</td>\n",
       "      <td>install</td>\n",
       "      <td>2016-08-14 05:02:53.0</td>\n",
       "    </tr>\n",
       "    <tr>\n",
       "      <th>161323</th>\n",
       "      <td>5c69de786e2a1d95</td>\n",
       "      <td>install</td>\n",
       "      <td>2016-08-22 14:34:40.0</td>\n",
       "    </tr>\n",
       "    <tr>\n",
       "      <th>161324</th>\n",
       "      <td>ce03e7593f390c8a</td>\n",
       "      <td>install</td>\n",
       "      <td>2016-08-14 19:01:47.0</td>\n",
       "    </tr>\n",
       "    <tr>\n",
       "      <th>161325</th>\n",
       "      <td>bb9e0db4c8632579</td>\n",
       "      <td>re-install</td>\n",
       "      <td>2016-08-09 02:21:48.0</td>\n",
       "    </tr>\n",
       "    <tr>\n",
       "      <th>161326</th>\n",
       "      <td>548247f089b06de</td>\n",
       "      <td>install</td>\n",
       "      <td>2016-08-21 02:43:51.0</td>\n",
       "    </tr>\n",
       "    <tr>\n",
       "      <th>161327</th>\n",
       "      <td>b0d101512b1973c8</td>\n",
       "      <td>install</td>\n",
       "      <td>2016-08-23 22:30:34.0</td>\n",
       "    </tr>\n",
       "    <tr>\n",
       "      <th>161328</th>\n",
       "      <td>548247f089b06de</td>\n",
       "      <td>uninstall</td>\n",
       "      <td>2016-08-23 05:44:05.0</td>\n",
       "    </tr>\n",
       "    <tr>\n",
       "      <th>161329</th>\n",
       "      <td>3efd35e151b34667</td>\n",
       "      <td>install</td>\n",
       "      <td>2016-08-16 05:50:07.0</td>\n",
       "    </tr>\n",
       "    <tr>\n",
       "      <th>161330</th>\n",
       "      <td>e872bae059ea2614</td>\n",
       "      <td>install</td>\n",
       "      <td>2016-08-22 12:36:43.0</td>\n",
       "    </tr>\n",
       "    <tr>\n",
       "      <th>161331</th>\n",
       "      <td>3efd35e151b34667</td>\n",
       "      <td>uninstall</td>\n",
       "      <td>2016-08-28 18:42:36.0</td>\n",
       "    </tr>\n",
       "    <tr>\n",
       "      <th>161332</th>\n",
       "      <td>e872bae059ea2614</td>\n",
       "      <td>uninstall</td>\n",
       "      <td>2016-08-23 17:47:59.0</td>\n",
       "    </tr>\n",
       "    <tr>\n",
       "      <th>161333</th>\n",
       "      <td>fd8c566dbfd956ce</td>\n",
       "      <td>install</td>\n",
       "      <td>2016-08-20 10:38:37.0</td>\n",
       "    </tr>\n",
       "    <tr>\n",
       "      <th>161334</th>\n",
       "      <td>59741a7556811793</td>\n",
       "      <td>uninstall</td>\n",
       "      <td>2016-08-23 17:46:54.0</td>\n",
       "    </tr>\n",
       "    <tr>\n",
       "      <th>161335</th>\n",
       "      <td>93198e3710610be7</td>\n",
       "      <td>install</td>\n",
       "      <td>2016-08-30 04:47:10.0</td>\n",
       "    </tr>\n",
       "    <tr>\n",
       "      <th>161336</th>\n",
       "      <td>af6eaf5776226ed6</td>\n",
       "      <td>install</td>\n",
       "      <td>2016-08-14 05:07:46.0</td>\n",
       "    </tr>\n",
       "    <tr>\n",
       "      <th>161337</th>\n",
       "      <td>b03c5d3607e37ef8</td>\n",
       "      <td>install</td>\n",
       "      <td>2016-08-26 19:21:06.0</td>\n",
       "    </tr>\n",
       "    <tr>\n",
       "      <th>161338</th>\n",
       "      <td>7484ca57c8f6d8e3</td>\n",
       "      <td>install</td>\n",
       "      <td>2016-08-21 04:47:58.0</td>\n",
       "    </tr>\n",
       "    <tr>\n",
       "      <th>161339</th>\n",
       "      <td>161eb9a3e7ba9080</td>\n",
       "      <td>install</td>\n",
       "      <td>2016-08-26 03:46:37.0</td>\n",
       "    </tr>\n",
       "    <tr>\n",
       "      <th>161340</th>\n",
       "      <td>67b88e4a6bd28862</td>\n",
       "      <td>install</td>\n",
       "      <td>2016-08-26 09:23:02.0</td>\n",
       "    </tr>\n",
       "    <tr>\n",
       "      <th>161341</th>\n",
       "      <td>c23a06e92a35c7b8</td>\n",
       "      <td>uninstall</td>\n",
       "      <td>2016-08-21 17:36:40.0</td>\n",
       "    </tr>\n",
       "    <tr>\n",
       "      <th>161342</th>\n",
       "      <td>3db27a06b2fc6dc1</td>\n",
       "      <td>re-install</td>\n",
       "      <td>2016-08-31 19:49:40.0</td>\n",
       "    </tr>\n",
       "    <tr>\n",
       "      <th>161343</th>\n",
       "      <td>f601fd4c54b7be37</td>\n",
       "      <td>install</td>\n",
       "      <td>2016-08-12 13:20:12.0</td>\n",
       "    </tr>\n",
       "    <tr>\n",
       "      <th>161344</th>\n",
       "      <td>a410556ba3a375bd</td>\n",
       "      <td>install</td>\n",
       "      <td>2016-08-07 09:44:17.0</td>\n",
       "    </tr>\n",
       "    <tr>\n",
       "      <th>161345</th>\n",
       "      <td>a410556ba3a375bd</td>\n",
       "      <td>uninstall</td>\n",
       "      <td>2016-08-14 17:36:02.0</td>\n",
       "    </tr>\n",
       "    <tr>\n",
       "      <th>161346</th>\n",
       "      <td>a94e12cb4bb11947</td>\n",
       "      <td>re-install</td>\n",
       "      <td>2016-08-13 14:31:01.0</td>\n",
       "    </tr>\n",
       "    <tr>\n",
       "      <th>161347</th>\n",
       "      <td>a94e12cb4bb11947</td>\n",
       "      <td>uninstall</td>\n",
       "      <td>2016-08-14 17:35:37.0</td>\n",
       "    </tr>\n",
       "    <tr>\n",
       "      <th>161348</th>\n",
       "      <td>2d6c0cbfa6b67e50</td>\n",
       "      <td>uninstall</td>\n",
       "      <td>2016-08-14 17:36:13.0</td>\n",
       "    </tr>\n",
       "    <tr>\n",
       "      <th>161349</th>\n",
       "      <td>2d6c0cbfa6b67e50</td>\n",
       "      <td>install</td>\n",
       "      <td>2016-08-13 06:29:05.0</td>\n",
       "    </tr>\n",
       "    <tr>\n",
       "      <th>161350</th>\n",
       "      <td>5a072368bd4dd3ab</td>\n",
       "      <td>install</td>\n",
       "      <td>2016-08-07 09:00:26.0</td>\n",
       "    </tr>\n",
       "  </tbody>\n",
       "</table>\n",
       "<p>161351 rows × 3 columns</p>\n",
       "</div>"
      ],
      "text/plain": [
       "                    uuid  event_type          creation_date\n",
       "0       a9ba6d0cd8586a4f     install  2016-08-06 19:54:47.0\n",
       "1       7365ac7d0721bbf0  re-install  2016-08-14 16:04:45.0\n",
       "2       4bf1a1368533ad74   uninstall  2016-08-06 17:40:18.0\n",
       "3       8f2a30a777e2714b     install  2016-08-31 05:25:24.0\n",
       "4       cd002b38b452db4c     install  2016-08-20 20:19:06.0\n",
       "5       69ca9ae5f44d30ed     install  2016-08-06 18:43:48.0\n",
       "6       be86f7ceaaf66600     install  2016-08-05 06:44:21.0\n",
       "7       e000e5ae9e8a6852   uninstall  2016-08-07 17:41:35.0\n",
       "8       27ae4470a9f5aa92     install  2016-08-15 02:53:50.0\n",
       "9         863626fc1dea37     install  2016-08-03 07:22:12.0\n",
       "10      bb281aca6d2faf60     install  2016-08-11 10:01:00.0\n",
       "11      1b85db553fd1cfa6   uninstall  2016-08-12 05:28:05.0\n",
       "12      9b439e361a379034     install  2016-08-14 08:41:35.0\n",
       "13      30827da5b807e4f3     install  2016-08-12 03:46:43.0\n",
       "14      c98632690d8b74ed   uninstall  2016-08-12 17:37:52.0\n",
       "15      cda1d0de450e7d3e     install  2016-08-10 15:52:56.0\n",
       "16      b01fa9185a3a45ab     install  2016-08-06 13:58:21.0\n",
       "17       6215917812e4d6e     install  2016-08-10 10:03:29.0\n",
       "18       5f722f34c62fc58     install  2016-08-05 11:59:47.0\n",
       "19      19db4eff14e0ef6e   uninstall  2016-08-12 17:37:36.0\n",
       "20      f3e2fc2939d28c08     install  2016-08-11 16:16:13.0\n",
       "21      9cc72d0532eadebc   uninstall  2016-08-12 17:37:04.0\n",
       "22      50e02f4cfce5c935     install  2016-08-07 09:33:06.0\n",
       "23      934380fbb8252022   uninstall  2016-08-12 17:36:58.0\n",
       "24      862b001e0b4141c7     install  2016-08-13 06:40:31.0\n",
       "25      651d8901215d48b8   uninstall  2016-08-26 18:12:52.0\n",
       "26      7215277de198b932     install  2016-08-23 18:03:03.0\n",
       "27      502eb2d1f6fa6d2c     install  2016-08-12 05:22:41.0\n",
       "28      7af5037cf2af7dfd   uninstall  2016-08-07 05:28:44.0\n",
       "29      175fbe0524ec15ee     install  2016-08-31 17:37:04.0\n",
       "...                  ...         ...                    ...\n",
       "161321  9240563fb0468a97  re-install  2016-08-21 08:31:06.0\n",
       "161322  595e23ee2ac9ae7c     install  2016-08-14 05:02:53.0\n",
       "161323  5c69de786e2a1d95     install  2016-08-22 14:34:40.0\n",
       "161324  ce03e7593f390c8a     install  2016-08-14 19:01:47.0\n",
       "161325  bb9e0db4c8632579  re-install  2016-08-09 02:21:48.0\n",
       "161326   548247f089b06de     install  2016-08-21 02:43:51.0\n",
       "161327  b0d101512b1973c8     install  2016-08-23 22:30:34.0\n",
       "161328   548247f089b06de   uninstall  2016-08-23 05:44:05.0\n",
       "161329  3efd35e151b34667     install  2016-08-16 05:50:07.0\n",
       "161330  e872bae059ea2614     install  2016-08-22 12:36:43.0\n",
       "161331  3efd35e151b34667   uninstall  2016-08-28 18:42:36.0\n",
       "161332  e872bae059ea2614   uninstall  2016-08-23 17:47:59.0\n",
       "161333  fd8c566dbfd956ce     install  2016-08-20 10:38:37.0\n",
       "161334  59741a7556811793   uninstall  2016-08-23 17:46:54.0\n",
       "161335  93198e3710610be7     install  2016-08-30 04:47:10.0\n",
       "161336  af6eaf5776226ed6     install  2016-08-14 05:07:46.0\n",
       "161337  b03c5d3607e37ef8     install  2016-08-26 19:21:06.0\n",
       "161338  7484ca57c8f6d8e3     install  2016-08-21 04:47:58.0\n",
       "161339  161eb9a3e7ba9080     install  2016-08-26 03:46:37.0\n",
       "161340  67b88e4a6bd28862     install  2016-08-26 09:23:02.0\n",
       "161341  c23a06e92a35c7b8   uninstall  2016-08-21 17:36:40.0\n",
       "161342  3db27a06b2fc6dc1  re-install  2016-08-31 19:49:40.0\n",
       "161343  f601fd4c54b7be37     install  2016-08-12 13:20:12.0\n",
       "161344  a410556ba3a375bd     install  2016-08-07 09:44:17.0\n",
       "161345  a410556ba3a375bd   uninstall  2016-08-14 17:36:02.0\n",
       "161346  a94e12cb4bb11947  re-install  2016-08-13 14:31:01.0\n",
       "161347  a94e12cb4bb11947   uninstall  2016-08-14 17:35:37.0\n",
       "161348  2d6c0cbfa6b67e50   uninstall  2016-08-14 17:36:13.0\n",
       "161349  2d6c0cbfa6b67e50     install  2016-08-13 06:29:05.0\n",
       "161350  5a072368bd4dd3ab     install  2016-08-07 09:00:26.0\n",
       "\n",
       "[161351 rows x 3 columns]"
      ]
     },
     "execution_count": 158,
     "metadata": {},
     "output_type": "execute_result"
    }
   ],
   "source": [
    "df_cycles"
   ]
  },
  {
   "cell_type": "code",
   "execution_count": 159,
   "metadata": {},
   "outputs": [
    {
     "data": {
      "text/html": [
       "<div>\n",
       "<style scoped>\n",
       "    .dataframe tbody tr th:only-of-type {\n",
       "        vertical-align: middle;\n",
       "    }\n",
       "\n",
       "    .dataframe tbody tr th {\n",
       "        vertical-align: top;\n",
       "    }\n",
       "\n",
       "    .dataframe thead th {\n",
       "        text-align: right;\n",
       "    }\n",
       "</style>\n",
       "<table border=\"1\" class=\"dataframe\">\n",
       "  <thead>\n",
       "    <tr style=\"text-align: right;\">\n",
       "      <th></th>\n",
       "      <th>uuid</th>\n",
       "      <th>event_type</th>\n",
       "      <th>creation_date</th>\n",
       "    </tr>\n",
       "  </thead>\n",
       "  <tbody>\n",
       "    <tr>\n",
       "      <th>0</th>\n",
       "      <td>a9ba6d0cd8586a4f</td>\n",
       "      <td>install</td>\n",
       "      <td>2016-08-06 19:54:47.0</td>\n",
       "    </tr>\n",
       "    <tr>\n",
       "      <th>1</th>\n",
       "      <td>7365ac7d0721bbf0</td>\n",
       "      <td>re-install</td>\n",
       "      <td>2016-08-14 16:04:45.0</td>\n",
       "    </tr>\n",
       "    <tr>\n",
       "      <th>2</th>\n",
       "      <td>4bf1a1368533ad74</td>\n",
       "      <td>uninstall</td>\n",
       "      <td>2016-08-06 17:40:18.0</td>\n",
       "    </tr>\n",
       "    <tr>\n",
       "      <th>3</th>\n",
       "      <td>8f2a30a777e2714b</td>\n",
       "      <td>install</td>\n",
       "      <td>2016-08-31 05:25:24.0</td>\n",
       "    </tr>\n",
       "    <tr>\n",
       "      <th>4</th>\n",
       "      <td>cd002b38b452db4c</td>\n",
       "      <td>install</td>\n",
       "      <td>2016-08-20 20:19:06.0</td>\n",
       "    </tr>\n",
       "  </tbody>\n",
       "</table>\n",
       "</div>"
      ],
      "text/plain": [
       "               uuid  event_type          creation_date\n",
       "0  a9ba6d0cd8586a4f     install  2016-08-06 19:54:47.0\n",
       "1  7365ac7d0721bbf0  re-install  2016-08-14 16:04:45.0\n",
       "2  4bf1a1368533ad74   uninstall  2016-08-06 17:40:18.0\n",
       "3  8f2a30a777e2714b     install  2016-08-31 05:25:24.0\n",
       "4  cd002b38b452db4c     install  2016-08-20 20:19:06.0"
      ]
     },
     "execution_count": 159,
     "metadata": {},
     "output_type": "execute_result"
    }
   ],
   "source": [
    "df_cycles_2=df_cycles[0:25000]\n",
    "df_cycles_2.head()"
   ]
  },
  {
   "cell_type": "code",
   "execution_count": 160,
   "metadata": {},
   "outputs": [
    {
     "name": "stderr",
     "output_type": "stream",
     "text": [
      "C:\\Users\\Sumanth_47\\Anaconda3\\lib\\site-packages\\ipykernel_launcher.py:1: SettingWithCopyWarning: \n",
      "A value is trying to be set on a copy of a slice from a DataFrame\n",
      "\n",
      "See the caveats in the documentation: http://pandas.pydata.org/pandas-docs/stable/indexing.html#indexing-view-versus-copy\n",
      "  \"\"\"Entry point for launching an IPython kernel.\n"
     ]
    }
   ],
   "source": [
    "df_cycles_2.sort_values(by='creation_date',inplace=True)\n",
    "df_cycles_2 = df_cycles_2.reset_index(drop=True)"
   ]
  },
  {
   "cell_type": "markdown",
   "metadata": {},
   "source": [
    "#### Functions to caluclate end date of the cycle and duration of the cycle"
   ]
  },
  {
   "cell_type": "code",
   "execution_count": 161,
   "metadata": {},
   "outputs": [],
   "source": [
    "def get_end_date(x,i):\n",
    "    u='Still active'\n",
    "    df_test=df_cycles_2[x+1:]\n",
    "    df_test_2=df_test[(df_test['uuid']==i) & (df_test['event_type']=='uninstall')]\n",
    "    if df_test_2.empty:\n",
    "        return u\n",
    "    else:\n",
    "        last_date=min(df_test_2['creation_date'])\n",
    "        return last_date"
   ]
  },
  {
   "cell_type": "code",
   "execution_count": 162,
   "metadata": {},
   "outputs": [],
   "source": [
    "def get_gap(x,y):\n",
    "    x1=x.split(\" \")[0]\n",
    "    y1=y.split(\" \")[0]\n",
    "    x_d=datetime.strptime(x1, '%Y-%m-%d').date()\n",
    "    y_d=datetime.strptime(y1, '%Y-%m-%d').date()\n",
    "    g=y_d-x_d\n",
    "    return g.days"
   ]
  },
  {
   "cell_type": "code",
   "execution_count": 163,
   "metadata": {},
   "outputs": [],
   "source": [
    "def get_date_from_str(x):\n",
    "    x1=x.split(\" \")[0]\n",
    "    x_d=datetime.strptime(x1, '%Y-%m-%d').date()\n",
    "    return x_d"
   ]
  },
  {
   "cell_type": "markdown",
   "metadata": {},
   "source": [
    "#### Appending all to a list"
   ]
  },
  {
   "cell_type": "code",
   "execution_count": 164,
   "metadata": {},
   "outputs": [
    {
     "name": "stderr",
     "output_type": "stream",
     "text": [
      "100%|██████████████████████████████████████████████████████████████████████████████████████████████████████████████████████████████████████████████████████████████████████████████████████████████████████████████████████████████████| 25000/25000 [00:53<00:00, 471.10it/s]\n"
     ]
    }
   ],
   "source": [
    "arr=[]\n",
    "for i in tqdm(range(len(df_cycles_2))):\n",
    "    if (df_cycles_2['event_type'][i]=='install') or (df_cycles_2['event_type'][i]=='re-install'):\n",
    "        start=df_cycles_2['creation_date'][i]\n",
    "        id_=df_cycles_2['uuid'][i]\n",
    "        end=get_end_date(i,id_)\n",
    "        if(end == 'Still active'):\n",
    "            gap='Still counting'\n",
    "        else:\n",
    "            gap=get_gap(start,end)        \n",
    "        x=[id_,start,end,gap]\n",
    "        arr.append(x)\n",
    "    else:\n",
    "        t=0"
   ]
  },
  {
   "cell_type": "code",
   "execution_count": 165,
   "metadata": {
    "scrolled": true
   },
   "outputs": [
    {
     "data": {
      "text/plain": [
       "[['c6b71209ed50c5e2', '2016-08-01 03:24:23.0', '2016-08-03 17:34:27.0', 2],\n",
       " ['ed7bde31467b2708',\n",
       "  '2016-08-01 03:28:52.0',\n",
       "  'Still active',\n",
       "  'Still counting'],\n",
       " ['6cbed1d0f24f34f4', '2016-08-01 03:29:14.0', '2016-08-02 05:45:22.0', 1],\n",
       " ['f34e5ad7be2ded4e', '2016-08-01 03:30:46.0', '2016-08-10 17:32:52.0', 9],\n",
       " ['68d233c78a9908c9', '2016-08-01 03:30:59.0', '2016-08-02 05:45:22.0', 1]]"
      ]
     },
     "execution_count": 165,
     "metadata": {},
     "output_type": "execute_result"
    }
   ],
   "source": [
    "arr[0:10]"
   ]
  },
  {
   "cell_type": "markdown",
   "metadata": {},
   "source": [
    "#### Converting List to Data Frame"
   ]
  },
  {
   "cell_type": "code",
   "execution_count": 166,
   "metadata": {},
   "outputs": [],
   "source": [
    "columns = ['uuid','start_date', 'end_date','span of the cycle(in days)']\n",
    "df_cycle_span = pd.DataFrame(arr,columns=columns)\n",
    "df_cycle_span.index.names = ['Cycle_id']"
   ]
  },
  {
   "cell_type": "code",
   "execution_count": 167,
   "metadata": {},
   "outputs": [
    {
     "data": {
      "text/html": [
       "<div>\n",
       "<style scoped>\n",
       "    .dataframe tbody tr th:only-of-type {\n",
       "        vertical-align: middle;\n",
       "    }\n",
       "\n",
       "    .dataframe tbody tr th {\n",
       "        vertical-align: top;\n",
       "    }\n",
       "\n",
       "    .dataframe thead th {\n",
       "        text-align: right;\n",
       "    }\n",
       "</style>\n",
       "<table border=\"1\" class=\"dataframe\">\n",
       "  <thead>\n",
       "    <tr style=\"text-align: right;\">\n",
       "      <th></th>\n",
       "      <th>uuid</th>\n",
       "      <th>start_date</th>\n",
       "      <th>end_date</th>\n",
       "      <th>span of the cycle(in days)</th>\n",
       "    </tr>\n",
       "    <tr>\n",
       "      <th>Cycle_id</th>\n",
       "      <th></th>\n",
       "      <th></th>\n",
       "      <th></th>\n",
       "      <th></th>\n",
       "    </tr>\n",
       "  </thead>\n",
       "  <tbody>\n",
       "    <tr>\n",
       "      <th>0</th>\n",
       "      <td>c6b71209ed50c5e2</td>\n",
       "      <td>2016-08-01 03:24:23.0</td>\n",
       "      <td>2016-08-03 17:34:27.0</td>\n",
       "      <td>2</td>\n",
       "    </tr>\n",
       "    <tr>\n",
       "      <th>1</th>\n",
       "      <td>ed7bde31467b2708</td>\n",
       "      <td>2016-08-01 03:28:52.0</td>\n",
       "      <td>Still active</td>\n",
       "      <td>Still counting</td>\n",
       "    </tr>\n",
       "    <tr>\n",
       "      <th>2</th>\n",
       "      <td>6cbed1d0f24f34f4</td>\n",
       "      <td>2016-08-01 03:29:14.0</td>\n",
       "      <td>2016-08-02 05:45:22.0</td>\n",
       "      <td>1</td>\n",
       "    </tr>\n",
       "    <tr>\n",
       "      <th>3</th>\n",
       "      <td>f34e5ad7be2ded4e</td>\n",
       "      <td>2016-08-01 03:30:46.0</td>\n",
       "      <td>2016-08-10 17:32:52.0</td>\n",
       "      <td>9</td>\n",
       "    </tr>\n",
       "    <tr>\n",
       "      <th>4</th>\n",
       "      <td>68d233c78a9908c9</td>\n",
       "      <td>2016-08-01 03:30:59.0</td>\n",
       "      <td>2016-08-02 05:45:22.0</td>\n",
       "      <td>1</td>\n",
       "    </tr>\n",
       "  </tbody>\n",
       "</table>\n",
       "</div>"
      ],
      "text/plain": [
       "                      uuid             start_date               end_date  \\\n",
       "Cycle_id                                                                   \n",
       "0         c6b71209ed50c5e2  2016-08-01 03:24:23.0  2016-08-03 17:34:27.0   \n",
       "1         ed7bde31467b2708  2016-08-01 03:28:52.0           Still active   \n",
       "2         6cbed1d0f24f34f4  2016-08-01 03:29:14.0  2016-08-02 05:45:22.0   \n",
       "3         f34e5ad7be2ded4e  2016-08-01 03:30:46.0  2016-08-10 17:32:52.0   \n",
       "4         68d233c78a9908c9  2016-08-01 03:30:59.0  2016-08-02 05:45:22.0   \n",
       "\n",
       "         span of the cycle(in days)  \n",
       "Cycle_id                             \n",
       "0                                 2  \n",
       "1                    Still counting  \n",
       "2                                 1  \n",
       "3                                 9  \n",
       "4                                 1  "
      ]
     },
     "execution_count": 167,
     "metadata": {},
     "output_type": "execute_result"
    }
   ],
   "source": [
    "df_cycle_span.head()"
   ]
  },
  {
   "cell_type": "code",
   "execution_count": 168,
   "metadata": {},
   "outputs": [],
   "source": [
    "df_3=df_cycle_span[df_cycle_span['span of the cycle(in days)']!='Still counting']"
   ]
  },
  {
   "cell_type": "code",
   "execution_count": 169,
   "metadata": {
    "scrolled": true
   },
   "outputs": [
    {
     "data": {
      "text/html": [
       "<div>\n",
       "<style scoped>\n",
       "    .dataframe tbody tr th:only-of-type {\n",
       "        vertical-align: middle;\n",
       "    }\n",
       "\n",
       "    .dataframe tbody tr th {\n",
       "        vertical-align: top;\n",
       "    }\n",
       "\n",
       "    .dataframe thead th {\n",
       "        text-align: right;\n",
       "    }\n",
       "</style>\n",
       "<table border=\"1\" class=\"dataframe\">\n",
       "  <thead>\n",
       "    <tr style=\"text-align: right;\">\n",
       "      <th></th>\n",
       "      <th>uuid</th>\n",
       "      <th>start_date</th>\n",
       "      <th>end_date</th>\n",
       "      <th>span of the cycle(in days)</th>\n",
       "    </tr>\n",
       "    <tr>\n",
       "      <th>Cycle_id</th>\n",
       "      <th></th>\n",
       "      <th></th>\n",
       "      <th></th>\n",
       "      <th></th>\n",
       "    </tr>\n",
       "  </thead>\n",
       "  <tbody>\n",
       "    <tr>\n",
       "      <th>0</th>\n",
       "      <td>c6b71209ed50c5e2</td>\n",
       "      <td>2016-08-01 03:24:23.0</td>\n",
       "      <td>2016-08-03 17:34:27.0</td>\n",
       "      <td>2</td>\n",
       "    </tr>\n",
       "    <tr>\n",
       "      <th>2</th>\n",
       "      <td>6cbed1d0f24f34f4</td>\n",
       "      <td>2016-08-01 03:29:14.0</td>\n",
       "      <td>2016-08-02 05:45:22.0</td>\n",
       "      <td>1</td>\n",
       "    </tr>\n",
       "    <tr>\n",
       "      <th>3</th>\n",
       "      <td>f34e5ad7be2ded4e</td>\n",
       "      <td>2016-08-01 03:30:46.0</td>\n",
       "      <td>2016-08-10 17:32:52.0</td>\n",
       "      <td>9</td>\n",
       "    </tr>\n",
       "    <tr>\n",
       "      <th>4</th>\n",
       "      <td>68d233c78a9908c9</td>\n",
       "      <td>2016-08-01 03:30:59.0</td>\n",
       "      <td>2016-08-02 05:45:22.0</td>\n",
       "      <td>1</td>\n",
       "    </tr>\n",
       "    <tr>\n",
       "      <th>6</th>\n",
       "      <td>fe43146d11c8eaad</td>\n",
       "      <td>2016-08-01 03:38:04.0</td>\n",
       "      <td>2016-08-04 05:35:13.0</td>\n",
       "      <td>3</td>\n",
       "    </tr>\n",
       "  </tbody>\n",
       "</table>\n",
       "</div>"
      ],
      "text/plain": [
       "                      uuid             start_date               end_date  \\\n",
       "Cycle_id                                                                   \n",
       "0         c6b71209ed50c5e2  2016-08-01 03:24:23.0  2016-08-03 17:34:27.0   \n",
       "2         6cbed1d0f24f34f4  2016-08-01 03:29:14.0  2016-08-02 05:45:22.0   \n",
       "3         f34e5ad7be2ded4e  2016-08-01 03:30:46.0  2016-08-10 17:32:52.0   \n",
       "4         68d233c78a9908c9  2016-08-01 03:30:59.0  2016-08-02 05:45:22.0   \n",
       "6         fe43146d11c8eaad  2016-08-01 03:38:04.0  2016-08-04 05:35:13.0   \n",
       "\n",
       "         span of the cycle(in days)  \n",
       "Cycle_id                             \n",
       "0                                 2  \n",
       "2                                 1  \n",
       "3                                 9  \n",
       "4                                 1  \n",
       "6                                 3  "
      ]
     },
     "execution_count": 169,
     "metadata": {},
     "output_type": "execute_result"
    }
   ],
   "source": [
    "df_3.head()"
   ]
  },
  {
   "cell_type": "code",
   "execution_count": 170,
   "metadata": {
    "scrolled": true
   },
   "outputs": [
    {
     "data": {
      "text/html": [
       "<div>\n",
       "<style scoped>\n",
       "    .dataframe tbody tr th:only-of-type {\n",
       "        vertical-align: middle;\n",
       "    }\n",
       "\n",
       "    .dataframe tbody tr th {\n",
       "        vertical-align: top;\n",
       "    }\n",
       "\n",
       "    .dataframe thead th {\n",
       "        text-align: right;\n",
       "    }\n",
       "</style>\n",
       "<table border=\"1\" class=\"dataframe\">\n",
       "  <thead>\n",
       "    <tr style=\"text-align: right;\">\n",
       "      <th></th>\n",
       "      <th>uuid</th>\n",
       "      <th>start_date</th>\n",
       "      <th>end_date</th>\n",
       "      <th>span of the cycle(in days)</th>\n",
       "    </tr>\n",
       "    <tr>\n",
       "      <th>Cycle_id</th>\n",
       "      <th></th>\n",
       "      <th></th>\n",
       "      <th></th>\n",
       "      <th></th>\n",
       "    </tr>\n",
       "  </thead>\n",
       "  <tbody>\n",
       "    <tr>\n",
       "      <th>196</th>\n",
       "      <td>ba71230379071758</td>\n",
       "      <td>2016-08-01 17:09:37.0</td>\n",
       "      <td>2016-08-31 05:36:42.0</td>\n",
       "      <td>30</td>\n",
       "    </tr>\n",
       "    <tr>\n",
       "      <th>609</th>\n",
       "      <td>afa5ef79d93df3ad</td>\n",
       "      <td>2016-08-02 19:46:27.0</td>\n",
       "      <td>2016-08-31 18:41:37.0</td>\n",
       "      <td>29</td>\n",
       "    </tr>\n",
       "    <tr>\n",
       "      <th>395</th>\n",
       "      <td>47d24726735de54a</td>\n",
       "      <td>2016-08-02 11:10:36.0</td>\n",
       "      <td>2016-08-31 18:41:36.0</td>\n",
       "      <td>29</td>\n",
       "    </tr>\n",
       "    <tr>\n",
       "      <th>686</th>\n",
       "      <td>d7abf451eecfd1e7</td>\n",
       "      <td>2016-08-03 06:51:10.0</td>\n",
       "      <td>2016-08-31 18:41:38.0</td>\n",
       "      <td>28</td>\n",
       "    </tr>\n",
       "    <tr>\n",
       "      <th>917</th>\n",
       "      <td>16e390314888a2a7</td>\n",
       "      <td>2016-08-03 18:46:13.0</td>\n",
       "      <td>2016-08-31 05:36:48.0</td>\n",
       "      <td>28</td>\n",
       "    </tr>\n",
       "  </tbody>\n",
       "</table>\n",
       "</div>"
      ],
      "text/plain": [
       "                      uuid             start_date               end_date  \\\n",
       "Cycle_id                                                                   \n",
       "196       ba71230379071758  2016-08-01 17:09:37.0  2016-08-31 05:36:42.0   \n",
       "609       afa5ef79d93df3ad  2016-08-02 19:46:27.0  2016-08-31 18:41:37.0   \n",
       "395       47d24726735de54a  2016-08-02 11:10:36.0  2016-08-31 18:41:36.0   \n",
       "686       d7abf451eecfd1e7  2016-08-03 06:51:10.0  2016-08-31 18:41:38.0   \n",
       "917       16e390314888a2a7  2016-08-03 18:46:13.0  2016-08-31 05:36:48.0   \n",
       "\n",
       "         span of the cycle(in days)  \n",
       "Cycle_id                             \n",
       "196                              30  \n",
       "609                              29  \n",
       "395                              29  \n",
       "686                              28  \n",
       "917                              28  "
      ]
     },
     "execution_count": 170,
     "metadata": {},
     "output_type": "execute_result"
    }
   ],
   "source": [
    "df_3.sort_values(by='span of the cycle(in days)', ascending= False).head()"
   ]
  },
  {
   "cell_type": "code",
   "execution_count": 171,
   "metadata": {},
   "outputs": [],
   "source": [
    "hist_span=list(df_3['span of the cycle(in days)'])"
   ]
  },
  {
   "cell_type": "code",
   "execution_count": 172,
   "metadata": {},
   "outputs": [
    {
     "data": {
      "text/plain": [
       "Text(0,0.5,'Frequency')"
      ]
     },
     "execution_count": 172,
     "metadata": {},
     "output_type": "execute_result"
    },
    {
     "data": {
      "image/png": "[encoded data removed]",
      "text/plain": [
       "<matplotlib.figure.Figure at 0x2585a89ddd8>"
      ]
     },
     "metadata": {},
     "output_type": "display_data"
    }
   ],
   "source": [
    "plt.figure(figsize=(17,5))\n",
    "plt.hist(hist_span,bins=10,rwidth=0.9)\n",
    "plt.xlabel('1 Cycle Duration')\n",
    "plt.ylabel('Frequency')"
   ]
  },
  {
   "cell_type": "markdown",
   "metadata": {},
   "source": [
    "## Distribution of purchases i.e. Total number and total value of the purchases in one cycle and total purchases in week 1, week 2 and week 3 "
   ]
  },
  {
   "cell_type": "code",
   "execution_count": 173,
   "metadata": {
    "scrolled": true
   },
   "outputs": [
    {
     "data": {
      "text/html": [
       "<div>\n",
       "<style scoped>\n",
       "    .dataframe tbody tr th:only-of-type {\n",
       "        vertical-align: middle;\n",
       "    }\n",
       "\n",
       "    .dataframe tbody tr th {\n",
       "        vertical-align: top;\n",
       "    }\n",
       "\n",
       "    .dataframe thead th {\n",
       "        text-align: right;\n",
       "    }\n",
       "</style>\n",
       "<table border=\"1\" class=\"dataframe\">\n",
       "  <thead>\n",
       "    <tr style=\"text-align: right;\">\n",
       "      <th></th>\n",
       "      <th>uuid</th>\n",
       "      <th>event</th>\n",
       "      <th>event_timestamp</th>\n",
       "      <th>properties</th>\n",
       "    </tr>\n",
       "  </thead>\n",
       "  <tbody>\n",
       "    <tr>\n",
       "      <th>0</th>\n",
       "      <td>43e1796c34ac2a91</td>\n",
       "      <td>Cart is viewed</td>\n",
       "      <td>2016-08-29 02:07:56.88</td>\n",
       "      <td>{\"email_id\": \"careers24@gmail.com\", \"timeStamp\": \"29-08-2016 07:43:10\", \"No Of Products\": 1, \"Cart Value\": \"1495\"}</td>\n",
       "    </tr>\n",
       "    <tr>\n",
       "      <th>1</th>\n",
       "      <td>3065bf9960737af</td>\n",
       "      <td>Cart is viewed</td>\n",
       "      <td>2016-08-29 03:04:00.08</td>\n",
       "      <td>{\"email_id\": \"devangnipathak@gmail.com\", \"timeStamp\": \"29-08-2016 08:39:03\", \"No Of Products\": 4, \"Cart Value\": \"877\"}</td>\n",
       "    </tr>\n",
       "    <tr>\n",
       "      <th>2</th>\n",
       "      <td>636677073e9445e3</td>\n",
       "      <td>Search results page viewed</td>\n",
       "      <td>2016-08-29 00:26:23.213</td>\n",
       "      <td>{\"category\": \"Panties\", \"timeStamp\": \"29-08-2016 06:00:27\"}</td>\n",
       "    </tr>\n",
       "    <tr>\n",
       "      <th>3</th>\n",
       "      <td>75f156f9584ffccf</td>\n",
       "      <td>Push notification received</td>\n",
       "      <td>2016-08-29 02:31:20.89</td>\n",
       "      <td>{\"timeStamp\": \"29-08-2016 08:05:40\"}</td>\n",
       "    </tr>\n",
       "    <tr>\n",
       "      <th>4</th>\n",
       "      <td>651557edb4a564b0</td>\n",
       "      <td>Search is initiated</td>\n",
       "      <td>2016-08-29 03:12:53.29</td>\n",
       "      <td>{\"search_query\": \"bra for 19 years old \", \"timeStamp\": \"29-08-2016 08:49:57\"}</td>\n",
       "    </tr>\n",
       "  </tbody>\n",
       "</table>\n",
       "</div>"
      ],
      "text/plain": [
       "               uuid                       event          event_timestamp  \\\n",
       "0  43e1796c34ac2a91              Cart is viewed   2016-08-29 02:07:56.88   \n",
       "1   3065bf9960737af              Cart is viewed   2016-08-29 03:04:00.08   \n",
       "2  636677073e9445e3  Search results page viewed  2016-08-29 00:26:23.213   \n",
       "3  75f156f9584ffccf  Push notification received   2016-08-29 02:31:20.89   \n",
       "4  651557edb4a564b0         Search is initiated   2016-08-29 03:12:53.29   \n",
       "\n",
       "                                                                                                               properties  \n",
       "0      {\"email_id\": \"careers24@gmail.com\", \"timeStamp\": \"29-08-2016 07:43:10\", \"No Of Products\": 1, \"Cart Value\": \"1495\"}  \n",
       "1  {\"email_id\": \"devangnipathak@gmail.com\", \"timeStamp\": \"29-08-2016 08:39:03\", \"No Of Products\": 4, \"Cart Value\": \"877\"}  \n",
       "2                                                             {\"category\": \"Panties\", \"timeStamp\": \"29-08-2016 06:00:27\"}  \n",
       "3                                                                                    {\"timeStamp\": \"29-08-2016 08:05:40\"}  \n",
       "4                                           {\"search_query\": \"bra for 19 years old \", \"timeStamp\": \"29-08-2016 08:49:57\"}  "
      ]
     },
     "execution_count": 173,
     "metadata": {},
     "output_type": "execute_result"
    }
   ],
   "source": [
    "df_events.head()"
   ]
  },
  {
   "cell_type": "code",
   "execution_count": 174,
   "metadata": {},
   "outputs": [],
   "source": [
    "def get_purchase_number(i,s,e):\n",
    "    df_9=df_cycle_3[(df_cycle_3['uuid']==i) & (df_cycle_3['event']=='Place Order is initiated')]\n",
    "    df_11=df_9[(df_cycle_3['date']>=s) & (df_9['date']<=e)]\n",
    "    \n",
    "    return len(df_11)"
   ]
  },
  {
   "cell_type": "code",
   "execution_count": 175,
   "metadata": {
    "scrolled": false
   },
   "outputs": [
    {
     "name": "stderr",
     "output_type": "stream",
     "text": [
      "100%|██████████████████████████████████████████████████████████████████████████████████████████████████████████████████████████████████████████████████████████████████████████████████████████████████████████████████████████████| 995304/995304 [01:08<00:00, 14463.41it/s]\n"
     ]
    }
   ],
   "source": [
    "arr_4=[]\n",
    "for i in tqdm(range(len(df_events))):\n",
    "    ev=df_events['event'][i]\n",
    "    id_=df_events['uuid'][i]\n",
    "    dat=df_events['event_timestamp'][i]\n",
    "    dat_2=get_date_from_str(dat)\n",
    "    prop=df_events['properties'][i]\n",
    "    arr_4.append([id_,ev,dat_2,prop])\n"
   ]
  },
  {
   "cell_type": "code",
   "execution_count": 176,
   "metadata": {},
   "outputs": [],
   "source": [
    "cols = ['uuid','event','date','prop']\n",
    "df_cycle_3 = pd.DataFrame(arr_4,columns=cols)\n",
    "#df_cycle_3.index.names = ['uuid']"
   ]
  },
  {
   "cell_type": "code",
   "execution_count": 177,
   "metadata": {},
   "outputs": [],
   "source": [
    "def get_purchase_number_2(i,s,e):\n",
    "    df_9=df_cycle_3[(df_cycle_3['uuid']==i) & (df_cycle_3['event']=='Place Order is initiated')]\n",
    "    df_11=df_9[(df_9['date']>=s+timedelta(days=7)) & (df_9['date']<s+timedelta(days=14))]\n",
    "    \n",
    "    return len(df_11)\n",
    "\n",
    "def get_purchase_number_3(i,s,e):\n",
    "    df_9=df_cycle_3[(df_cycle_3['uuid']==i) & (df_cycle_3['event']=='Place Order is initiated')]\n",
    "    df_11=df_9[(df_9['date']>=s+timedelta(days=14)) & (df_9['date']<s+timedelta(days=21))]\n",
    "    \n",
    "    return len(df_11)\n",
    "\n",
    "def get_purchase_number_1(i,s,e):\n",
    "    df_9=df_cycle_3[(df_cycle_3['uuid']==i) & (df_cycle_3['event']=='Place Order is initiated')]\n",
    "    df_11=df_9[(df_9['date']>=s) & (df_9['date']<s+timedelta(days=7))]\n",
    "    \n",
    "    return len(df_11)"
   ]
  },
  {
   "cell_type": "code",
   "execution_count": 178,
   "metadata": {},
   "outputs": [],
   "source": [
    "def get_purchase_value(i,s,e):\n",
    "    df_9=df_cycle_3[(df_events['uuid']==i) & (df_cycle_3['event']=='Place Order is initiated')]\n",
    "    df_11=df_9[(df_9['date']>=s) & (df_9['date']<=e)]\n",
    "    total=0\n",
    "    for j in range(len(df_11)):\n",
    "        \n",
    "        v=list(df_11['prop'])\n",
    "        v1=v[j].split(\"Value\")[1]\n",
    "        v2=v1.split(\"}\")[0]\n",
    "        \n",
    "        val_s=get_number(v2)\n",
    "        \n",
    "        val_int=int(val_s)\n",
    "        \n",
    "        total=total+val_int\n",
    "               \n",
    "\n",
    "\n",
    "\n",
    "    return total"
   ]
  },
  {
   "cell_type": "code",
   "execution_count": 179,
   "metadata": {},
   "outputs": [
    {
     "data": {
      "text/html": [
       "<div>\n",
       "<style scoped>\n",
       "    .dataframe tbody tr th:only-of-type {\n",
       "        vertical-align: middle;\n",
       "    }\n",
       "\n",
       "    .dataframe tbody tr th {\n",
       "        vertical-align: top;\n",
       "    }\n",
       "\n",
       "    .dataframe thead th {\n",
       "        text-align: right;\n",
       "    }\n",
       "</style>\n",
       "<table border=\"1\" class=\"dataframe\">\n",
       "  <thead>\n",
       "    <tr style=\"text-align: right;\">\n",
       "      <th></th>\n",
       "      <th>uuid</th>\n",
       "      <th>event</th>\n",
       "      <th>date</th>\n",
       "      <th>prop</th>\n",
       "    </tr>\n",
       "  </thead>\n",
       "  <tbody>\n",
       "    <tr>\n",
       "      <th>0</th>\n",
       "      <td>43e1796c34ac2a91</td>\n",
       "      <td>Cart is viewed</td>\n",
       "      <td>2016-08-29</td>\n",
       "      <td>{\"email_id\": \"careers24@gmail.com\", \"timeStamp\": \"29-08-2016 07:43:10\", \"No Of Products\": 1, \"Cart Value\": \"1495\"}</td>\n",
       "    </tr>\n",
       "    <tr>\n",
       "      <th>1</th>\n",
       "      <td>3065bf9960737af</td>\n",
       "      <td>Cart is viewed</td>\n",
       "      <td>2016-08-29</td>\n",
       "      <td>{\"email_id\": \"devangnipathak@gmail.com\", \"timeStamp\": \"29-08-2016 08:39:03\", \"No Of Products\": 4, \"Cart Value\": \"877\"}</td>\n",
       "    </tr>\n",
       "    <tr>\n",
       "      <th>2</th>\n",
       "      <td>636677073e9445e3</td>\n",
       "      <td>Search results page viewed</td>\n",
       "      <td>2016-08-29</td>\n",
       "      <td>{\"category\": \"Panties\", \"timeStamp\": \"29-08-2016 06:00:27\"}</td>\n",
       "    </tr>\n",
       "    <tr>\n",
       "      <th>3</th>\n",
       "      <td>75f156f9584ffccf</td>\n",
       "      <td>Push notification received</td>\n",
       "      <td>2016-08-29</td>\n",
       "      <td>{\"timeStamp\": \"29-08-2016 08:05:40\"}</td>\n",
       "    </tr>\n",
       "    <tr>\n",
       "      <th>4</th>\n",
       "      <td>651557edb4a564b0</td>\n",
       "      <td>Search is initiated</td>\n",
       "      <td>2016-08-29</td>\n",
       "      <td>{\"search_query\": \"bra for 19 years old \", \"timeStamp\": \"29-08-2016 08:49:57\"}</td>\n",
       "    </tr>\n",
       "  </tbody>\n",
       "</table>\n",
       "</div>"
      ],
      "text/plain": [
       "               uuid                       event        date  \\\n",
       "0  43e1796c34ac2a91              Cart is viewed  2016-08-29   \n",
       "1   3065bf9960737af              Cart is viewed  2016-08-29   \n",
       "2  636677073e9445e3  Search results page viewed  2016-08-29   \n",
       "3  75f156f9584ffccf  Push notification received  2016-08-29   \n",
       "4  651557edb4a564b0         Search is initiated  2016-08-29   \n",
       "\n",
       "                                                                                                                     prop  \n",
       "0      {\"email_id\": \"careers24@gmail.com\", \"timeStamp\": \"29-08-2016 07:43:10\", \"No Of Products\": 1, \"Cart Value\": \"1495\"}  \n",
       "1  {\"email_id\": \"devangnipathak@gmail.com\", \"timeStamp\": \"29-08-2016 08:39:03\", \"No Of Products\": 4, \"Cart Value\": \"877\"}  \n",
       "2                                                             {\"category\": \"Panties\", \"timeStamp\": \"29-08-2016 06:00:27\"}  \n",
       "3                                                                                    {\"timeStamp\": \"29-08-2016 08:05:40\"}  \n",
       "4                                           {\"search_query\": \"bra for 19 years old \", \"timeStamp\": \"29-08-2016 08:49:57\"}  "
      ]
     },
     "execution_count": 179,
     "metadata": {},
     "output_type": "execute_result"
    }
   ],
   "source": [
    "df_cycle_3.head()"
   ]
  },
  {
   "cell_type": "markdown",
   "metadata": {},
   "source": [
    "### !!!!   Note: Only top 50 rows are considered as computing for complete data set takes a very long time"
   ]
  },
  {
   "cell_type": "code",
   "execution_count": 180,
   "metadata": {},
   "outputs": [
    {
     "name": "stderr",
     "output_type": "stream",
     "text": [
      "  0%|                                                                                                                                                                                                                                                  | 0/50 [00:00<?, ?it/s]C:\\Users\\Sumanth_47\\Anaconda3\\lib\\site-packages\\ipykernel_launcher.py:3: UserWarning: Boolean Series key will be reindexed to match DataFrame index.\n",
      "  This is separate from the ipykernel package so we can avoid doing imports until\n",
      "100%|█████████████████████████████████████████████████████████████████████████████████████████████████████████████████████████████████████████████████████████████████████████████████████████████████████████████████████████████████████████| 50/50 [01:13<00:00,  1.48s/it]\n"
     ]
    }
   ],
   "source": [
    "purr=[]\n",
    "for i in tqdm(range(50)):\n",
    "    id_=df_cycle_span['uuid'][i]\n",
    "    end=df_cycle_span['end_date'][i]\n",
    "    st=df_cycle_span['start_date'][i]\n",
    "    \n",
    "    st_1=get_date_from_str(st)\n",
    "    \n",
    "    if(end[0]=='S'):\n",
    "        end_1=df_cycle_3['date'].max()\n",
    "    else:\n",
    "        end_1=get_date_from_str(end)\n",
    "    \n",
    "    df_11=df_cycle_3[(df_cycle_3['date']>=st_1) & (df_cycle_3['date']<=end_1)]\n",
    "    \n",
    "    week_1=get_purchase_number_1(id_,st_1,end_1)\n",
    "    week_2=get_purchase_number_2(id_,st_1,end_1)\n",
    "    week_3=get_purchase_number_3(id_,st_1,end_1)\n",
    "    \n",
    "    pur_val=get_purchase_value(id_,st_1,end_1)\n",
    "    \n",
    "    pur=get_purchase_number(id_,st_1,end_1)\n",
    "\n",
    "    \n",
    "    purr.append([pur,week_1,week_2,week_3,pur_val])"
   ]
  },
  {
   "cell_type": "code",
   "execution_count": 181,
   "metadata": {
    "scrolled": true
   },
   "outputs": [],
   "source": [
    "pur_val=get_purchase_value(id_,st_1,end_1)"
   ]
  },
  {
   "cell_type": "code",
   "execution_count": 182,
   "metadata": {
    "scrolled": true
   },
   "outputs": [
    {
     "data": {
      "text/html": [
       "<div>\n",
       "<style scoped>\n",
       "    .dataframe tbody tr th:only-of-type {\n",
       "        vertical-align: middle;\n",
       "    }\n",
       "\n",
       "    .dataframe tbody tr th {\n",
       "        vertical-align: top;\n",
       "    }\n",
       "\n",
       "    .dataframe thead th {\n",
       "        text-align: right;\n",
       "    }\n",
       "</style>\n",
       "<table border=\"1\" class=\"dataframe\">\n",
       "  <thead>\n",
       "    <tr style=\"text-align: right;\">\n",
       "      <th></th>\n",
       "      <th>uuid</th>\n",
       "      <th>event</th>\n",
       "      <th>date</th>\n",
       "      <th>prop</th>\n",
       "    </tr>\n",
       "  </thead>\n",
       "  <tbody>\n",
       "    <tr>\n",
       "      <th>292091</th>\n",
       "      <td>ccff7633ebe24a6a</td>\n",
       "      <td>Place Order is initiated</td>\n",
       "      <td>2016-08-25</td>\n",
       "      <td>{\"email_id\": \"chithraskumar@gmail.com\", \"timeStamp\": \"25-08-2016 04:12:44\", \"No Of Products\": 4, \"Cart Value\": \"2974\"}</td>\n",
       "    </tr>\n",
       "    <tr>\n",
       "      <th>292151</th>\n",
       "      <td>a31e664d8b2b6f68</td>\n",
       "      <td>Place Order is initiated</td>\n",
       "      <td>2016-08-25</td>\n",
       "      <td>{\"email_id\": \"mekunjita@gmail.com\", \"timeStamp\": \"25-08-2016 03:10:31\", \"No Of Products\": 1, \"Cart Value\": \"431\"}</td>\n",
       "    </tr>\n",
       "    <tr>\n",
       "      <th>292211</th>\n",
       "      <td>29f387b5dd73240a</td>\n",
       "      <td>Place Order is initiated</td>\n",
       "      <td>2016-08-25</td>\n",
       "      <td>{\"email_id\": \"priyankachhibbarcute@gmail.com\", \"timeStamp\": \"25-08-2016 07:20:29\", \"No Of Products\": 2, \"Cart Value\": \"987\"}</td>\n",
       "    </tr>\n",
       "    <tr>\n",
       "      <th>292271</th>\n",
       "      <td>227455967360508e</td>\n",
       "      <td>Place Order is initiated</td>\n",
       "      <td>2016-08-25</td>\n",
       "      <td>{\"email_id\": \"csanghita94@yahoo.com\", \"timeStamp\": \"25-08-2016 04:41:08\", \"No Of Products\": 2, \"Cart Value\": \"668\"}</td>\n",
       "    </tr>\n",
       "    <tr>\n",
       "      <th>292331</th>\n",
       "      <td>236a284af346285d</td>\n",
       "      <td>Place Order is initiated</td>\n",
       "      <td>2016-08-25</td>\n",
       "      <td>{\"email_id\": \"shwethanath2@gmail.com\", \"timeStamp\": \"25-08-2016 06:16:36\", \"No Of Products\": 2, \"Cart Value\": \"2490\"}</td>\n",
       "    </tr>\n",
       "  </tbody>\n",
       "</table>\n",
       "</div>"
      ],
      "text/plain": [
       "                    uuid                     event        date  \\\n",
       "292091  ccff7633ebe24a6a  Place Order is initiated  2016-08-25   \n",
       "292151  a31e664d8b2b6f68  Place Order is initiated  2016-08-25   \n",
       "292211  29f387b5dd73240a  Place Order is initiated  2016-08-25   \n",
       "292271  227455967360508e  Place Order is initiated  2016-08-25   \n",
       "292331  236a284af346285d  Place Order is initiated  2016-08-25   \n",
       "\n",
       "                                                                                                                                prop  \n",
       "292091        {\"email_id\": \"chithraskumar@gmail.com\", \"timeStamp\": \"25-08-2016 04:12:44\", \"No Of Products\": 4, \"Cart Value\": \"2974\"}  \n",
       "292151             {\"email_id\": \"mekunjita@gmail.com\", \"timeStamp\": \"25-08-2016 03:10:31\", \"No Of Products\": 1, \"Cart Value\": \"431\"}  \n",
       "292211  {\"email_id\": \"priyankachhibbarcute@gmail.com\", \"timeStamp\": \"25-08-2016 07:20:29\", \"No Of Products\": 2, \"Cart Value\": \"987\"}  \n",
       "292271           {\"email_id\": \"csanghita94@yahoo.com\", \"timeStamp\": \"25-08-2016 04:41:08\", \"No Of Products\": 2, \"Cart Value\": \"668\"}  \n",
       "292331         {\"email_id\": \"shwethanath2@gmail.com\", \"timeStamp\": \"25-08-2016 06:16:36\", \"No Of Products\": 2, \"Cart Value\": \"2490\"}  "
      ]
     },
     "execution_count": 182,
     "metadata": {},
     "output_type": "execute_result"
    }
   ],
   "source": [
    "df_cycle_3[df_cycle_3['event']=='Place Order is initiated'].head()"
   ]
  },
  {
   "cell_type": "code",
   "execution_count": 183,
   "metadata": {},
   "outputs": [],
   "source": [
    "col = ['Total Purchases','in week 1', 'in week 2','in week 3','total value of purchaces']\n",
    "df_purchases = pd.DataFrame(purr,columns=col)\n",
    "#df_purchases.index.names = ['Cycle_id']"
   ]
  },
  {
   "cell_type": "markdown",
   "metadata": {},
   "source": [
    "### Following Data frame gives total number of purchases of each cycle, number of purchases in week 1, week 2 and week 3 of the cycle and total value of the purchases of each cycle. "
   ]
  },
  {
   "cell_type": "code",
   "execution_count": 184,
   "metadata": {
    "scrolled": true
   },
   "outputs": [
    {
     "data": {
      "text/html": [
       "<div>\n",
       "<style scoped>\n",
       "    .dataframe tbody tr th:only-of-type {\n",
       "        vertical-align: middle;\n",
       "    }\n",
       "\n",
       "    .dataframe tbody tr th {\n",
       "        vertical-align: top;\n",
       "    }\n",
       "\n",
       "    .dataframe thead th {\n",
       "        text-align: right;\n",
       "    }\n",
       "</style>\n",
       "<table border=\"1\" class=\"dataframe\">\n",
       "  <thead>\n",
       "    <tr style=\"text-align: right;\">\n",
       "      <th></th>\n",
       "      <th>Total Purchases</th>\n",
       "      <th>in week 1</th>\n",
       "      <th>in week 2</th>\n",
       "      <th>in week 3</th>\n",
       "      <th>total value of purchaces</th>\n",
       "    </tr>\n",
       "    <tr>\n",
       "      <th>Cycle ID</th>\n",
       "      <th></th>\n",
       "      <th></th>\n",
       "      <th></th>\n",
       "      <th></th>\n",
       "      <th></th>\n",
       "    </tr>\n",
       "  </thead>\n",
       "  <tbody>\n",
       "    <tr>\n",
       "      <th>0</th>\n",
       "      <td>0</td>\n",
       "      <td>0</td>\n",
       "      <td>0</td>\n",
       "      <td>0</td>\n",
       "      <td>0</td>\n",
       "    </tr>\n",
       "    <tr>\n",
       "      <th>1</th>\n",
       "      <td>0</td>\n",
       "      <td>0</td>\n",
       "      <td>0</td>\n",
       "      <td>0</td>\n",
       "      <td>0</td>\n",
       "    </tr>\n",
       "    <tr>\n",
       "      <th>2</th>\n",
       "      <td>0</td>\n",
       "      <td>0</td>\n",
       "      <td>0</td>\n",
       "      <td>0</td>\n",
       "      <td>0</td>\n",
       "    </tr>\n",
       "    <tr>\n",
       "      <th>3</th>\n",
       "      <td>0</td>\n",
       "      <td>0</td>\n",
       "      <td>0</td>\n",
       "      <td>0</td>\n",
       "      <td>0</td>\n",
       "    </tr>\n",
       "    <tr>\n",
       "      <th>4</th>\n",
       "      <td>0</td>\n",
       "      <td>0</td>\n",
       "      <td>0</td>\n",
       "      <td>0</td>\n",
       "      <td>0</td>\n",
       "    </tr>\n",
       "    <tr>\n",
       "      <th>5</th>\n",
       "      <td>0</td>\n",
       "      <td>0</td>\n",
       "      <td>0</td>\n",
       "      <td>0</td>\n",
       "      <td>0</td>\n",
       "    </tr>\n",
       "    <tr>\n",
       "      <th>6</th>\n",
       "      <td>0</td>\n",
       "      <td>0</td>\n",
       "      <td>0</td>\n",
       "      <td>0</td>\n",
       "      <td>0</td>\n",
       "    </tr>\n",
       "    <tr>\n",
       "      <th>7</th>\n",
       "      <td>0</td>\n",
       "      <td>0</td>\n",
       "      <td>0</td>\n",
       "      <td>0</td>\n",
       "      <td>0</td>\n",
       "    </tr>\n",
       "    <tr>\n",
       "      <th>8</th>\n",
       "      <td>0</td>\n",
       "      <td>0</td>\n",
       "      <td>0</td>\n",
       "      <td>0</td>\n",
       "      <td>0</td>\n",
       "    </tr>\n",
       "    <tr>\n",
       "      <th>9</th>\n",
       "      <td>0</td>\n",
       "      <td>0</td>\n",
       "      <td>0</td>\n",
       "      <td>0</td>\n",
       "      <td>0</td>\n",
       "    </tr>\n",
       "    <tr>\n",
       "      <th>10</th>\n",
       "      <td>0</td>\n",
       "      <td>0</td>\n",
       "      <td>0</td>\n",
       "      <td>0</td>\n",
       "      <td>0</td>\n",
       "    </tr>\n",
       "    <tr>\n",
       "      <th>11</th>\n",
       "      <td>0</td>\n",
       "      <td>0</td>\n",
       "      <td>0</td>\n",
       "      <td>0</td>\n",
       "      <td>0</td>\n",
       "    </tr>\n",
       "    <tr>\n",
       "      <th>12</th>\n",
       "      <td>0</td>\n",
       "      <td>0</td>\n",
       "      <td>0</td>\n",
       "      <td>0</td>\n",
       "      <td>0</td>\n",
       "    </tr>\n",
       "    <tr>\n",
       "      <th>13</th>\n",
       "      <td>0</td>\n",
       "      <td>0</td>\n",
       "      <td>0</td>\n",
       "      <td>0</td>\n",
       "      <td>0</td>\n",
       "    </tr>\n",
       "    <tr>\n",
       "      <th>14</th>\n",
       "      <td>0</td>\n",
       "      <td>0</td>\n",
       "      <td>0</td>\n",
       "      <td>0</td>\n",
       "      <td>0</td>\n",
       "    </tr>\n",
       "    <tr>\n",
       "      <th>15</th>\n",
       "      <td>0</td>\n",
       "      <td>0</td>\n",
       "      <td>0</td>\n",
       "      <td>0</td>\n",
       "      <td>0</td>\n",
       "    </tr>\n",
       "    <tr>\n",
       "      <th>16</th>\n",
       "      <td>0</td>\n",
       "      <td>0</td>\n",
       "      <td>0</td>\n",
       "      <td>0</td>\n",
       "      <td>0</td>\n",
       "    </tr>\n",
       "    <tr>\n",
       "      <th>17</th>\n",
       "      <td>0</td>\n",
       "      <td>0</td>\n",
       "      <td>0</td>\n",
       "      <td>0</td>\n",
       "      <td>0</td>\n",
       "    </tr>\n",
       "    <tr>\n",
       "      <th>18</th>\n",
       "      <td>0</td>\n",
       "      <td>0</td>\n",
       "      <td>0</td>\n",
       "      <td>0</td>\n",
       "      <td>0</td>\n",
       "    </tr>\n",
       "    <tr>\n",
       "      <th>19</th>\n",
       "      <td>0</td>\n",
       "      <td>0</td>\n",
       "      <td>0</td>\n",
       "      <td>0</td>\n",
       "      <td>0</td>\n",
       "    </tr>\n",
       "    <tr>\n",
       "      <th>20</th>\n",
       "      <td>0</td>\n",
       "      <td>0</td>\n",
       "      <td>0</td>\n",
       "      <td>0</td>\n",
       "      <td>0</td>\n",
       "    </tr>\n",
       "    <tr>\n",
       "      <th>21</th>\n",
       "      <td>0</td>\n",
       "      <td>0</td>\n",
       "      <td>0</td>\n",
       "      <td>0</td>\n",
       "      <td>0</td>\n",
       "    </tr>\n",
       "    <tr>\n",
       "      <th>22</th>\n",
       "      <td>0</td>\n",
       "      <td>0</td>\n",
       "      <td>0</td>\n",
       "      <td>0</td>\n",
       "      <td>0</td>\n",
       "    </tr>\n",
       "    <tr>\n",
       "      <th>23</th>\n",
       "      <td>0</td>\n",
       "      <td>0</td>\n",
       "      <td>0</td>\n",
       "      <td>0</td>\n",
       "      <td>0</td>\n",
       "    </tr>\n",
       "    <tr>\n",
       "      <th>24</th>\n",
       "      <td>0</td>\n",
       "      <td>0</td>\n",
       "      <td>0</td>\n",
       "      <td>0</td>\n",
       "      <td>0</td>\n",
       "    </tr>\n",
       "    <tr>\n",
       "      <th>25</th>\n",
       "      <td>0</td>\n",
       "      <td>0</td>\n",
       "      <td>0</td>\n",
       "      <td>0</td>\n",
       "      <td>0</td>\n",
       "    </tr>\n",
       "    <tr>\n",
       "      <th>26</th>\n",
       "      <td>0</td>\n",
       "      <td>0</td>\n",
       "      <td>0</td>\n",
       "      <td>0</td>\n",
       "      <td>0</td>\n",
       "    </tr>\n",
       "    <tr>\n",
       "      <th>27</th>\n",
       "      <td>0</td>\n",
       "      <td>0</td>\n",
       "      <td>0</td>\n",
       "      <td>0</td>\n",
       "      <td>0</td>\n",
       "    </tr>\n",
       "    <tr>\n",
       "      <th>28</th>\n",
       "      <td>0</td>\n",
       "      <td>0</td>\n",
       "      <td>0</td>\n",
       "      <td>0</td>\n",
       "      <td>0</td>\n",
       "    </tr>\n",
       "    <tr>\n",
       "      <th>29</th>\n",
       "      <td>0</td>\n",
       "      <td>0</td>\n",
       "      <td>0</td>\n",
       "      <td>0</td>\n",
       "      <td>0</td>\n",
       "    </tr>\n",
       "    <tr>\n",
       "      <th>30</th>\n",
       "      <td>0</td>\n",
       "      <td>0</td>\n",
       "      <td>0</td>\n",
       "      <td>0</td>\n",
       "      <td>0</td>\n",
       "    </tr>\n",
       "    <tr>\n",
       "      <th>31</th>\n",
       "      <td>0</td>\n",
       "      <td>0</td>\n",
       "      <td>0</td>\n",
       "      <td>0</td>\n",
       "      <td>0</td>\n",
       "    </tr>\n",
       "    <tr>\n",
       "      <th>32</th>\n",
       "      <td>0</td>\n",
       "      <td>0</td>\n",
       "      <td>0</td>\n",
       "      <td>0</td>\n",
       "      <td>0</td>\n",
       "    </tr>\n",
       "    <tr>\n",
       "      <th>33</th>\n",
       "      <td>0</td>\n",
       "      <td>0</td>\n",
       "      <td>0</td>\n",
       "      <td>0</td>\n",
       "      <td>0</td>\n",
       "    </tr>\n",
       "    <tr>\n",
       "      <th>34</th>\n",
       "      <td>0</td>\n",
       "      <td>0</td>\n",
       "      <td>0</td>\n",
       "      <td>0</td>\n",
       "      <td>0</td>\n",
       "    </tr>\n",
       "    <tr>\n",
       "      <th>35</th>\n",
       "      <td>0</td>\n",
       "      <td>0</td>\n",
       "      <td>0</td>\n",
       "      <td>0</td>\n",
       "      <td>0</td>\n",
       "    </tr>\n",
       "    <tr>\n",
       "      <th>36</th>\n",
       "      <td>2</td>\n",
       "      <td>0</td>\n",
       "      <td>0</td>\n",
       "      <td>0</td>\n",
       "      <td>846</td>\n",
       "    </tr>\n",
       "    <tr>\n",
       "      <th>37</th>\n",
       "      <td>0</td>\n",
       "      <td>0</td>\n",
       "      <td>0</td>\n",
       "      <td>0</td>\n",
       "      <td>0</td>\n",
       "    </tr>\n",
       "    <tr>\n",
       "      <th>38</th>\n",
       "      <td>0</td>\n",
       "      <td>0</td>\n",
       "      <td>0</td>\n",
       "      <td>0</td>\n",
       "      <td>0</td>\n",
       "    </tr>\n",
       "    <tr>\n",
       "      <th>39</th>\n",
       "      <td>0</td>\n",
       "      <td>0</td>\n",
       "      <td>0</td>\n",
       "      <td>0</td>\n",
       "      <td>0</td>\n",
       "    </tr>\n",
       "    <tr>\n",
       "      <th>40</th>\n",
       "      <td>0</td>\n",
       "      <td>0</td>\n",
       "      <td>0</td>\n",
       "      <td>0</td>\n",
       "      <td>0</td>\n",
       "    </tr>\n",
       "    <tr>\n",
       "      <th>41</th>\n",
       "      <td>0</td>\n",
       "      <td>0</td>\n",
       "      <td>0</td>\n",
       "      <td>0</td>\n",
       "      <td>0</td>\n",
       "    </tr>\n",
       "    <tr>\n",
       "      <th>42</th>\n",
       "      <td>1</td>\n",
       "      <td>0</td>\n",
       "      <td>0</td>\n",
       "      <td>0</td>\n",
       "      <td>995</td>\n",
       "    </tr>\n",
       "    <tr>\n",
       "      <th>43</th>\n",
       "      <td>0</td>\n",
       "      <td>0</td>\n",
       "      <td>0</td>\n",
       "      <td>0</td>\n",
       "      <td>0</td>\n",
       "    </tr>\n",
       "    <tr>\n",
       "      <th>44</th>\n",
       "      <td>0</td>\n",
       "      <td>0</td>\n",
       "      <td>0</td>\n",
       "      <td>0</td>\n",
       "      <td>0</td>\n",
       "    </tr>\n",
       "    <tr>\n",
       "      <th>45</th>\n",
       "      <td>0</td>\n",
       "      <td>0</td>\n",
       "      <td>0</td>\n",
       "      <td>0</td>\n",
       "      <td>0</td>\n",
       "    </tr>\n",
       "    <tr>\n",
       "      <th>46</th>\n",
       "      <td>0</td>\n",
       "      <td>0</td>\n",
       "      <td>0</td>\n",
       "      <td>0</td>\n",
       "      <td>0</td>\n",
       "    </tr>\n",
       "    <tr>\n",
       "      <th>47</th>\n",
       "      <td>0</td>\n",
       "      <td>0</td>\n",
       "      <td>0</td>\n",
       "      <td>0</td>\n",
       "      <td>0</td>\n",
       "    </tr>\n",
       "    <tr>\n",
       "      <th>48</th>\n",
       "      <td>0</td>\n",
       "      <td>0</td>\n",
       "      <td>0</td>\n",
       "      <td>0</td>\n",
       "      <td>0</td>\n",
       "    </tr>\n",
       "    <tr>\n",
       "      <th>49</th>\n",
       "      <td>0</td>\n",
       "      <td>0</td>\n",
       "      <td>0</td>\n",
       "      <td>0</td>\n",
       "      <td>0</td>\n",
       "    </tr>\n",
       "  </tbody>\n",
       "</table>\n",
       "</div>"
      ],
      "text/plain": [
       "          Total Purchases  in week 1  in week 2  in week 3  \\\n",
       "Cycle ID                                                     \n",
       "0                       0          0          0          0   \n",
       "1                       0          0          0          0   \n",
       "2                       0          0          0          0   \n",
       "3                       0          0          0          0   \n",
       "4                       0          0          0          0   \n",
       "5                       0          0          0          0   \n",
       "6                       0          0          0          0   \n",
       "7                       0          0          0          0   \n",
       "8                       0          0          0          0   \n",
       "9                       0          0          0          0   \n",
       "10                      0          0          0          0   \n",
       "11                      0          0          0          0   \n",
       "12                      0          0          0          0   \n",
       "13                      0          0          0          0   \n",
       "14                      0          0          0          0   \n",
       "15                      0          0          0          0   \n",
       "16                      0          0          0          0   \n",
       "17                      0          0          0          0   \n",
       "18                      0          0          0          0   \n",
       "19                      0          0          0          0   \n",
       "20                      0          0          0          0   \n",
       "21                      0          0          0          0   \n",
       "22                      0          0          0          0   \n",
       "23                      0          0          0          0   \n",
       "24                      0          0          0          0   \n",
       "25                      0          0          0          0   \n",
       "26                      0          0          0          0   \n",
       "27                      0          0          0          0   \n",
       "28                      0          0          0          0   \n",
       "29                      0          0          0          0   \n",
       "30                      0          0          0          0   \n",
       "31                      0          0          0          0   \n",
       "32                      0          0          0          0   \n",
       "33                      0          0          0          0   \n",
       "34                      0          0          0          0   \n",
       "35                      0          0          0          0   \n",
       "36                      2          0          0          0   \n",
       "37                      0          0          0          0   \n",
       "38                      0          0          0          0   \n",
       "39                      0          0          0          0   \n",
       "40                      0          0          0          0   \n",
       "41                      0          0          0          0   \n",
       "42                      1          0          0          0   \n",
       "43                      0          0          0          0   \n",
       "44                      0          0          0          0   \n",
       "45                      0          0          0          0   \n",
       "46                      0          0          0          0   \n",
       "47                      0          0          0          0   \n",
       "48                      0          0          0          0   \n",
       "49                      0          0          0          0   \n",
       "\n",
       "          total value of purchaces  \n",
       "Cycle ID                            \n",
       "0                                0  \n",
       "1                                0  \n",
       "2                                0  \n",
       "3                                0  \n",
       "4                                0  \n",
       "5                                0  \n",
       "6                                0  \n",
       "7                                0  \n",
       "8                                0  \n",
       "9                                0  \n",
       "10                               0  \n",
       "11                               0  \n",
       "12                               0  \n",
       "13                               0  \n",
       "14                               0  \n",
       "15                               0  \n",
       "16                               0  \n",
       "17                               0  \n",
       "18                               0  \n",
       "19                               0  \n",
       "20                               0  \n",
       "21                               0  \n",
       "22                               0  \n",
       "23                               0  \n",
       "24                               0  \n",
       "25                               0  \n",
       "26                               0  \n",
       "27                               0  \n",
       "28                               0  \n",
       "29                               0  \n",
       "30                               0  \n",
       "31                               0  \n",
       "32                               0  \n",
       "33                               0  \n",
       "34                               0  \n",
       "35                               0  \n",
       "36                             846  \n",
       "37                               0  \n",
       "38                               0  \n",
       "39                               0  \n",
       "40                               0  \n",
       "41                               0  \n",
       "42                             995  \n",
       "43                               0  \n",
       "44                               0  \n",
       "45                               0  \n",
       "46                               0  \n",
       "47                               0  \n",
       "48                               0  \n",
       "49                               0  "
      ]
     },
     "execution_count": 184,
     "metadata": {},
     "output_type": "execute_result"
    }
   ],
   "source": [
    "df_purchases.index.name = 'Cycle ID'\n",
    "df_purchases"
   ]
  },
  {
   "cell_type": "code",
   "execution_count": 185,
   "metadata": {},
   "outputs": [
    {
     "data": {
      "text/plain": [
       "Text(0,0.5,'Frequency')"
      ]
     },
     "execution_count": 185,
     "metadata": {},
     "output_type": "execute_result"
    },
    {
     "data": {
      "image/png": "[encoded data removed]",
      "text/plain": [
       "<matplotlib.figure.Figure at 0x2583f8e3f98>"
      ]
     },
     "metadata": {},
     "output_type": "display_data"
    }
   ],
   "source": [
    "plt.figure(figsize=(17,5))\n",
    "plt.hist(df_purchases['Total Purchases'],bins=10,rwidth=0.9)\n",
    "plt.xlabel('Number of purchases in 1 cycle')\n",
    "plt.ylabel('Frequency')"
   ]
  },
  {
   "cell_type": "code",
   "execution_count": 186,
   "metadata": {
    "scrolled": true
   },
   "outputs": [
    {
     "data": {
      "text/plain": [
       "Text(0,0.5,'Frequency')"
      ]
     },
     "execution_count": 186,
     "metadata": {},
     "output_type": "execute_result"
    },
    {
     "data": {
      "image/png": "[encoded data removed]",
      "text/plain": [
       "<matplotlib.figure.Figure at 0x258426a5828>"
      ]
     },
     "metadata": {},
     "output_type": "display_data"
    }
   ],
   "source": [
    "plt.figure(figsize=(17,5))\n",
    "plt.hist(df_purchases['total value of purchaces'],bins=10,rwidth=0.9)\n",
    "plt.xlabel('Purchase Value')\n",
    "plt.ylabel('Frequency')"
   ]
  },
  {
   "cell_type": "code",
   "execution_count": 187,
   "metadata": {},
   "outputs": [
    {
     "data": {
      "image/png": "[encoded data removed]",
      "text/plain": [
       "<matplotlib.figure.Figure at 0x258406c3c88>"
      ]
     },
     "metadata": {},
     "output_type": "display_data"
    }
   ],
   "source": [
    "plt.figure(figsize=(20,5))\n",
    "plt.hist(df_purchases['in week 1'],bins=4,rwidth=0.7,alpha=1,label='First week installs',color='black')\n",
    "plt.hist(df_purchases['in week 2'],bins=4,rwidth=0.7,alpha=0.5,label='Second week installs',color='red')\n",
    "plt.hist(df_purchases['in week 3'],bins=4,rwidth=0.7,alpha=0.5,label='Third week installs',color='green')\n",
    "plt.legend(loc='upper right')\n",
    "plt.show()"
   ]
  },
  {
   "cell_type": "markdown",
   "metadata": {},
   "source": [
    "## Search Analysis"
   ]
  },
  {
   "cell_type": "code",
   "execution_count": 188,
   "metadata": {
    "scrolled": true
   },
   "outputs": [
    {
     "data": {
      "text/html": [
       "<div>\n",
       "<style scoped>\n",
       "    .dataframe tbody tr th:only-of-type {\n",
       "        vertical-align: middle;\n",
       "    }\n",
       "\n",
       "    .dataframe tbody tr th {\n",
       "        vertical-align: top;\n",
       "    }\n",
       "\n",
       "    .dataframe thead th {\n",
       "        text-align: right;\n",
       "    }\n",
       "</style>\n",
       "<table border=\"1\" class=\"dataframe\">\n",
       "  <thead>\n",
       "    <tr style=\"text-align: right;\">\n",
       "      <th></th>\n",
       "      <th>uuid</th>\n",
       "      <th>event</th>\n",
       "      <th>event_timestamp</th>\n",
       "      <th>properties</th>\n",
       "    </tr>\n",
       "  </thead>\n",
       "  <tbody>\n",
       "    <tr>\n",
       "      <th>0</th>\n",
       "      <td>43e1796c34ac2a91</td>\n",
       "      <td>Cart is viewed</td>\n",
       "      <td>2016-08-29 02:07:56.88</td>\n",
       "      <td>{\"email_id\": \"careers24@gmail.com\", \"timeStamp\": \"29-08-2016 07:43:10\", \"No Of Products\": 1, \"Cart Value\": \"1495\"}</td>\n",
       "    </tr>\n",
       "    <tr>\n",
       "      <th>1</th>\n",
       "      <td>3065bf9960737af</td>\n",
       "      <td>Cart is viewed</td>\n",
       "      <td>2016-08-29 03:04:00.08</td>\n",
       "      <td>{\"email_id\": \"devangnipathak@gmail.com\", \"timeStamp\": \"29-08-2016 08:39:03\", \"No Of Products\": 4, \"Cart Value\": \"877\"}</td>\n",
       "    </tr>\n",
       "    <tr>\n",
       "      <th>2</th>\n",
       "      <td>636677073e9445e3</td>\n",
       "      <td>Search results page viewed</td>\n",
       "      <td>2016-08-29 00:26:23.213</td>\n",
       "      <td>{\"category\": \"Panties\", \"timeStamp\": \"29-08-2016 06:00:27\"}</td>\n",
       "    </tr>\n",
       "    <tr>\n",
       "      <th>3</th>\n",
       "      <td>75f156f9584ffccf</td>\n",
       "      <td>Push notification received</td>\n",
       "      <td>2016-08-29 02:31:20.89</td>\n",
       "      <td>{\"timeStamp\": \"29-08-2016 08:05:40\"}</td>\n",
       "    </tr>\n",
       "    <tr>\n",
       "      <th>4</th>\n",
       "      <td>651557edb4a564b0</td>\n",
       "      <td>Search is initiated</td>\n",
       "      <td>2016-08-29 03:12:53.29</td>\n",
       "      <td>{\"search_query\": \"bra for 19 years old \", \"timeStamp\": \"29-08-2016 08:49:57\"}</td>\n",
       "    </tr>\n",
       "  </tbody>\n",
       "</table>\n",
       "</div>"
      ],
      "text/plain": [
       "               uuid                       event          event_timestamp  \\\n",
       "0  43e1796c34ac2a91              Cart is viewed   2016-08-29 02:07:56.88   \n",
       "1   3065bf9960737af              Cart is viewed   2016-08-29 03:04:00.08   \n",
       "2  636677073e9445e3  Search results page viewed  2016-08-29 00:26:23.213   \n",
       "3  75f156f9584ffccf  Push notification received   2016-08-29 02:31:20.89   \n",
       "4  651557edb4a564b0         Search is initiated   2016-08-29 03:12:53.29   \n",
       "\n",
       "                                                                                                               properties  \n",
       "0      {\"email_id\": \"careers24@gmail.com\", \"timeStamp\": \"29-08-2016 07:43:10\", \"No Of Products\": 1, \"Cart Value\": \"1495\"}  \n",
       "1  {\"email_id\": \"devangnipathak@gmail.com\", \"timeStamp\": \"29-08-2016 08:39:03\", \"No Of Products\": 4, \"Cart Value\": \"877\"}  \n",
       "2                                                             {\"category\": \"Panties\", \"timeStamp\": \"29-08-2016 06:00:27\"}  \n",
       "3                                                                                    {\"timeStamp\": \"29-08-2016 08:05:40\"}  \n",
       "4                                           {\"search_query\": \"bra for 19 years old \", \"timeStamp\": \"29-08-2016 08:49:57\"}  "
      ]
     },
     "execution_count": 188,
     "metadata": {},
     "output_type": "execute_result"
    }
   ],
   "source": [
    "df_events.head()"
   ]
  },
  {
   "cell_type": "code",
   "execution_count": 189,
   "metadata": {
    "scrolled": true
   },
   "outputs": [
    {
     "data": {
      "text/html": [
       "<div>\n",
       "<style scoped>\n",
       "    .dataframe tbody tr th:only-of-type {\n",
       "        vertical-align: middle;\n",
       "    }\n",
       "\n",
       "    .dataframe tbody tr th {\n",
       "        vertical-align: top;\n",
       "    }\n",
       "\n",
       "    .dataframe thead th {\n",
       "        text-align: right;\n",
       "    }\n",
       "</style>\n",
       "<table border=\"1\" class=\"dataframe\">\n",
       "  <thead>\n",
       "    <tr style=\"text-align: right;\">\n",
       "      <th></th>\n",
       "      <th>uuid</th>\n",
       "      <th>event</th>\n",
       "      <th>event_timestamp</th>\n",
       "      <th>properties</th>\n",
       "    </tr>\n",
       "  </thead>\n",
       "  <tbody>\n",
       "    <tr>\n",
       "      <th>4</th>\n",
       "      <td>651557edb4a564b0</td>\n",
       "      <td>Search is initiated</td>\n",
       "      <td>2016-08-29 03:12:53.29</td>\n",
       "      <td>{\"search_query\": \"bra for 19 years old \", \"timeStamp\": \"29-08-2016 08:49:57\"}</td>\n",
       "    </tr>\n",
       "    <tr>\n",
       "      <th>8</th>\n",
       "      <td>58a06d3a55470575</td>\n",
       "      <td>Search is initiated</td>\n",
       "      <td>2016-08-29 01:01:46.307</td>\n",
       "      <td>{\"search_query\": \"belts in All Accessories\", \"timeStamp\": \"28-08-2016 06:08:25\"}</td>\n",
       "    </tr>\n",
       "    <tr>\n",
       "      <th>12</th>\n",
       "      <td>76e9932ad9a9eaae</td>\n",
       "      <td>Search is initiated</td>\n",
       "      <td>2016-08-29 03:21:13.357</td>\n",
       "      <td>{\"search_query\": \"triumph in Brands\", \"timeStamp\": \"30-08-2016 09:02:22\"}</td>\n",
       "    </tr>\n",
       "    <tr>\n",
       "      <th>17</th>\n",
       "      <td>3d1a0156889ec565</td>\n",
       "      <td>Search is initiated</td>\n",
       "      <td>2016-08-29 00:20:25.84</td>\n",
       "      <td>{\"search_query\": \"bra straps in All Accessories\", \"timeStamp\": \"29-08-2016 05:57:22\"}</td>\n",
       "    </tr>\n",
       "    <tr>\n",
       "      <th>18</th>\n",
       "      <td>e90121e9fa00730f</td>\n",
       "      <td>Search is initiated</td>\n",
       "      <td>2016-08-29 02:29:57.107</td>\n",
       "      <td>{\"search_query\": \"nightwears in All Nightwear\", \"timeStamp\": \"29-08-2016 08:08:27\"}</td>\n",
       "    </tr>\n",
       "  </tbody>\n",
       "</table>\n",
       "</div>"
      ],
      "text/plain": [
       "                uuid                event          event_timestamp  \\\n",
       "4   651557edb4a564b0  Search is initiated   2016-08-29 03:12:53.29   \n",
       "8   58a06d3a55470575  Search is initiated  2016-08-29 01:01:46.307   \n",
       "12  76e9932ad9a9eaae  Search is initiated  2016-08-29 03:21:13.357   \n",
       "17  3d1a0156889ec565  Search is initiated   2016-08-29 00:20:25.84   \n",
       "18  e90121e9fa00730f  Search is initiated  2016-08-29 02:29:57.107   \n",
       "\n",
       "                                                                               properties  \n",
       "4           {\"search_query\": \"bra for 19 years old \", \"timeStamp\": \"29-08-2016 08:49:57\"}  \n",
       "8        {\"search_query\": \"belts in All Accessories\", \"timeStamp\": \"28-08-2016 06:08:25\"}  \n",
       "12              {\"search_query\": \"triumph in Brands\", \"timeStamp\": \"30-08-2016 09:02:22\"}  \n",
       "17  {\"search_query\": \"bra straps in All Accessories\", \"timeStamp\": \"29-08-2016 05:57:22\"}  \n",
       "18    {\"search_query\": \"nightwears in All Nightwear\", \"timeStamp\": \"29-08-2016 08:08:27\"}  "
      ]
     },
     "execution_count": 189,
     "metadata": {},
     "output_type": "execute_result"
    }
   ],
   "source": [
    "df_events_search=df_events[df_events['event']=='Search is initiated']\n",
    "df_events_search.head()"
   ]
  },
  {
   "cell_type": "code",
   "execution_count": 190,
   "metadata": {},
   "outputs": [],
   "source": [
    "search_items=[]\n",
    "list_properties_items=list(df_events_search['properties'])"
   ]
  },
  {
   "cell_type": "code",
   "execution_count": 191,
   "metadata": {},
   "outputs": [
    {
     "data": {
      "text/plain": [
       "['{\"search_query\": \"bra for 19 years old \", \"timeStamp\": \"29-08-2016 08:49:57\"}',\n",
       " '{\"search_query\": \"belts in All Accessories\", \"timeStamp\": \"28-08-2016 06:08:25\"}',\n",
       " '{\"search_query\": \"triumph in Brands\", \"timeStamp\": \"30-08-2016 09:02:22\"}',\n",
       " '{\"search_query\": \"bra straps in All Accessories\", \"timeStamp\": \"29-08-2016 05:57:22\"}',\n",
       " '{\"search_query\": \"nightwears in All Nightwear\", \"timeStamp\": \"29-08-2016 08:08:27\"}']"
      ]
     },
     "execution_count": 191,
     "metadata": {},
     "output_type": "execute_result"
    }
   ],
   "source": [
    "list_properties_items[0:5]"
   ]
  },
  {
   "cell_type": "code",
   "execution_count": 192,
   "metadata": {},
   "outputs": [
    {
     "name": "stderr",
     "output_type": "stream",
     "text": [
      "100%|███████████████████████████████████████████████████████████████████████████████████████████████████████████████████████████████████████████████████████████████████████████████████████████████████████████████████████████████| 41346/41346 [00:00<00:00, 598313.90it/s]\n"
     ]
    }
   ],
   "source": [
    "for i in tqdm(range(len(list_properties_items))):\n",
    "    s=list_properties_items[i].split(': \"')[1]\n",
    "    s1=s.split('\"')[0]\n",
    "    \n",
    "    search_items.append(s1)"
   ]
  },
  {
   "cell_type": "code",
   "execution_count": 193,
   "metadata": {},
   "outputs": [
    {
     "data": {
      "text/plain": [
       "'aqua\", \"timeStamp\"'"
      ]
     },
     "execution_count": 193,
     "metadata": {},
     "output_type": "execute_result"
    }
   ],
   "source": [
    "list_properties_items[3].split(': \"')[1]\n",
    "s1=s1.split('\"')[0]\n",
    "s"
   ]
  },
  {
   "cell_type": "code",
   "execution_count": 194,
   "metadata": {},
   "outputs": [
    {
     "data": {
      "text/plain": [
       "['bra for 19 years old ',\n",
       " 'belts in All Accessories',\n",
       " 'triumph in Brands',\n",
       " 'bra straps in All Accessories',\n",
       " 'nightwears in All Nightwear']"
      ]
     },
     "execution_count": 194,
     "metadata": {},
     "output_type": "execute_result"
    }
   ],
   "source": [
    "search_items[0:5]"
   ]
  },
  {
   "cell_type": "markdown",
   "metadata": {},
   "source": [
    "### If all items table was available, then above list can be linked with it based on likelyhood to find what product is being searched exactly and also find most popular items at a given time"
   ]
  }
 ],
 "metadata": {
  "kernelspec": {
   "display_name": "Python 3",
   "language": "python",
   "name": "python3"
  },
  "language_info": {
   "codemirror_mode": {
    "name": "ipython",
    "version": 3
   },
   "file_extension": ".py",
   "mimetype": "text/x-python",
   "name": "python",
   "nbconvert_exporter": "python",
   "pygments_lexer": "ipython3",
   "version": "3.6.4"
  }
 },
 "nbformat": 4,
 "nbformat_minor": 2
}
